{
  "nbformat": 4,
  "nbformat_minor": 0,
  "metadata": {
    "colab": {
      "name": "data_vis.ipynb",
      "provenance": [],
      "toc_visible": true,
      "authorship_tag": "ABX9TyPheE9Z4MU4j3eylYTMgk9J",
      "include_colab_link": true
    },
    "kernelspec": {
      "name": "python3",
      "display_name": "Python 3"
    },
    "language_info": {
      "name": "python"
    }
  },
  "cells": [
    {
      "cell_type": "markdown",
      "metadata": {
        "id": "view-in-github",
        "colab_type": "text"
      },
      "source": [
        "<a href=\"https://colab.research.google.com/github/sean-halpin/data_vis/blob/main/data_vis.ipynb\" target=\"_parent\"><img src=\"https://colab.research.google.com/assets/colab-badge.svg\" alt=\"Open In Colab\"/></a>"
      ]
    },
    {
      "cell_type": "code",
      "metadata": {
        "id": "rolZMIoTBMLd"
      },
      "source": [
        "import numpy as np\n",
        "import pandas as pd"
      ],
      "execution_count": 1,
      "outputs": []
    },
    {
      "cell_type": "code",
      "metadata": {
        "colab": {
          "base_uri": "https://localhost:8080/",
          "height": 197
        },
        "id": "xUYLifiWIk8R",
        "outputId": "1ccda9c2-cba7-48d2-e9fc-bae947fbfc6c"
      },
      "source": [
        "df=pd.read_csv(\"fortune500.csv\")\n",
        "df.head()"
      ],
      "execution_count": 3,
      "outputs": [
        {
          "output_type": "execute_result",
          "data": {
            "text/html": [
              "<div>\n",
              "<style scoped>\n",
              "    .dataframe tbody tr th:only-of-type {\n",
              "        vertical-align: middle;\n",
              "    }\n",
              "\n",
              "    .dataframe tbody tr th {\n",
              "        vertical-align: top;\n",
              "    }\n",
              "\n",
              "    .dataframe thead th {\n",
              "        text-align: right;\n",
              "    }\n",
              "</style>\n",
              "<table border=\"1\" class=\"dataframe\">\n",
              "  <thead>\n",
              "    <tr style=\"text-align: right;\">\n",
              "      <th></th>\n",
              "      <th>Year</th>\n",
              "      <th>Rank</th>\n",
              "      <th>Company</th>\n",
              "      <th>Revenue (in millions)</th>\n",
              "      <th>Profit (in millions)</th>\n",
              "    </tr>\n",
              "  </thead>\n",
              "  <tbody>\n",
              "    <tr>\n",
              "      <th>0</th>\n",
              "      <td>1955</td>\n",
              "      <td>1</td>\n",
              "      <td>General Motors</td>\n",
              "      <td>9823.5</td>\n",
              "      <td>806</td>\n",
              "    </tr>\n",
              "    <tr>\n",
              "      <th>1</th>\n",
              "      <td>1955</td>\n",
              "      <td>2</td>\n",
              "      <td>Exxon Mobil</td>\n",
              "      <td>5661.4</td>\n",
              "      <td>584.8</td>\n",
              "    </tr>\n",
              "    <tr>\n",
              "      <th>2</th>\n",
              "      <td>1955</td>\n",
              "      <td>3</td>\n",
              "      <td>U.S. Steel</td>\n",
              "      <td>3250.4</td>\n",
              "      <td>195.4</td>\n",
              "    </tr>\n",
              "    <tr>\n",
              "      <th>3</th>\n",
              "      <td>1955</td>\n",
              "      <td>4</td>\n",
              "      <td>General Electric</td>\n",
              "      <td>2959.1</td>\n",
              "      <td>212.6</td>\n",
              "    </tr>\n",
              "    <tr>\n",
              "      <th>4</th>\n",
              "      <td>1955</td>\n",
              "      <td>5</td>\n",
              "      <td>Esmark</td>\n",
              "      <td>2510.8</td>\n",
              "      <td>19.1</td>\n",
              "    </tr>\n",
              "  </tbody>\n",
              "</table>\n",
              "</div>"
            ],
            "text/plain": [
              "   Year  Rank           Company  Revenue (in millions) Profit (in millions)\n",
              "0  1955     1    General Motors                 9823.5                  806\n",
              "1  1955     2       Exxon Mobil                 5661.4                584.8\n",
              "2  1955     3        U.S. Steel                 3250.4                195.4\n",
              "3  1955     4  General Electric                 2959.1                212.6\n",
              "4  1955     5            Esmark                 2510.8                 19.1"
            ]
          },
          "metadata": {
            "tags": []
          },
          "execution_count": 3
        }
      ]
    },
    {
      "cell_type": "code",
      "metadata": {
        "colab": {
          "base_uri": "https://localhost:8080/"
        },
        "id": "xF8aNahCLZmq",
        "outputId": "7664e8b2-b671-40d0-890e-dd490fc74cad"
      },
      "source": [
        "df.info()"
      ],
      "execution_count": 4,
      "outputs": [
        {
          "output_type": "stream",
          "text": [
            "<class 'pandas.core.frame.DataFrame'>\n",
            "RangeIndex: 25500 entries, 0 to 25499\n",
            "Data columns (total 5 columns):\n",
            " #   Column                 Non-Null Count  Dtype  \n",
            "---  ------                 --------------  -----  \n",
            " 0   Year                   25500 non-null  int64  \n",
            " 1   Rank                   25500 non-null  int64  \n",
            " 2   Company                25500 non-null  object \n",
            " 3   Revenue (in millions)  25500 non-null  float64\n",
            " 4   Profit (in millions)   25500 non-null  object \n",
            "dtypes: float64(1), int64(2), object(2)\n",
            "memory usage: 996.2+ KB\n"
          ],
          "name": "stdout"
        }
      ]
    },
    {
      "cell_type": "code",
      "metadata": {
        "colab": {
          "base_uri": "https://localhost:8080/",
          "height": 197
        },
        "id": "TJLHXVr4W6Vr",
        "outputId": "469e2f2b-1548-4ae1-8e6d-7d1e2e0be624"
      },
      "source": [
        "non_numberic_profits = df['Profit (in millions)'].str.contains('[^0-9.-]')\n",
        "df_non_numeric_profits = df.loc[non_numberic_profits]\n",
        "df_non_numeric_profits.head()"
      ],
      "execution_count": 5,
      "outputs": [
        {
          "output_type": "execute_result",
          "data": {
            "text/html": [
              "<div>\n",
              "<style scoped>\n",
              "    .dataframe tbody tr th:only-of-type {\n",
              "        vertical-align: middle;\n",
              "    }\n",
              "\n",
              "    .dataframe tbody tr th {\n",
              "        vertical-align: top;\n",
              "    }\n",
              "\n",
              "    .dataframe thead th {\n",
              "        text-align: right;\n",
              "    }\n",
              "</style>\n",
              "<table border=\"1\" class=\"dataframe\">\n",
              "  <thead>\n",
              "    <tr style=\"text-align: right;\">\n",
              "      <th></th>\n",
              "      <th>Year</th>\n",
              "      <th>Rank</th>\n",
              "      <th>Company</th>\n",
              "      <th>Revenue (in millions)</th>\n",
              "      <th>Profit (in millions)</th>\n",
              "    </tr>\n",
              "  </thead>\n",
              "  <tbody>\n",
              "    <tr>\n",
              "      <th>228</th>\n",
              "      <td>1955</td>\n",
              "      <td>229</td>\n",
              "      <td>Norton</td>\n",
              "      <td>135.0</td>\n",
              "      <td>N.A.</td>\n",
              "    </tr>\n",
              "    <tr>\n",
              "      <th>290</th>\n",
              "      <td>1955</td>\n",
              "      <td>291</td>\n",
              "      <td>Schlitz Brewing</td>\n",
              "      <td>100.0</td>\n",
              "      <td>N.A.</td>\n",
              "    </tr>\n",
              "    <tr>\n",
              "      <th>294</th>\n",
              "      <td>1955</td>\n",
              "      <td>295</td>\n",
              "      <td>Pacific Vegetable Oil</td>\n",
              "      <td>97.9</td>\n",
              "      <td>N.A.</td>\n",
              "    </tr>\n",
              "    <tr>\n",
              "      <th>296</th>\n",
              "      <td>1955</td>\n",
              "      <td>297</td>\n",
              "      <td>Liebmann Breweries</td>\n",
              "      <td>96.0</td>\n",
              "      <td>N.A.</td>\n",
              "    </tr>\n",
              "    <tr>\n",
              "      <th>352</th>\n",
              "      <td>1955</td>\n",
              "      <td>353</td>\n",
              "      <td>Minneapolis-Moline</td>\n",
              "      <td>77.4</td>\n",
              "      <td>N.A.</td>\n",
              "    </tr>\n",
              "  </tbody>\n",
              "</table>\n",
              "</div>"
            ],
            "text/plain": [
              "     Year  Rank  ... Revenue (in millions)  Profit (in millions)\n",
              "228  1955   229  ...                 135.0                  N.A.\n",
              "290  1955   291  ...                 100.0                  N.A.\n",
              "294  1955   295  ...                  97.9                  N.A.\n",
              "296  1955   297  ...                  96.0                  N.A.\n",
              "352  1955   353  ...                  77.4                  N.A.\n",
              "\n",
              "[5 rows x 5 columns]"
            ]
          },
          "metadata": {
            "tags": []
          },
          "execution_count": 5
        }
      ]
    },
    {
      "cell_type": "markdown",
      "metadata": {
        "id": "f8u9kJiMd_Va"
      },
      "source": [
        "Lets visualise how many rows per year have non numeric profits"
      ]
    },
    {
      "cell_type": "code",
      "metadata": {
        "colab": {
          "base_uri": "https://localhost:8080/"
        },
        "id": "9GRdgW_GR4Lm",
        "outputId": "91922379-337e-4528-a1a8-3fb44bd2076a"
      },
      "source": [
        "df.Year.unique()"
      ],
      "execution_count": 8,
      "outputs": [
        {
          "output_type": "execute_result",
          "data": {
            "text/plain": [
              "array([1955, 1956, 1957, 1958, 1959, 1960, 1961, 1962, 1963, 1964, 1965,\n",
              "       1966, 1967, 1968, 1969, 1970, 1971, 1972, 1973, 1974, 1975, 1976,\n",
              "       1977, 1978, 1979, 1980, 1981, 1982, 1983, 1984, 1985, 1986, 1987,\n",
              "       1988, 1989, 1990, 1991, 1992, 1993, 1994, 1995, 1996, 1997, 1998,\n",
              "       1999, 2000, 2001, 2002, 2003, 2004, 2005])"
            ]
          },
          "metadata": {
            "tags": []
          },
          "execution_count": 8
        }
      ]
    },
    {
      "cell_type": "code",
      "metadata": {
        "colab": {
          "base_uri": "https://localhost:8080/",
          "height": 445
        },
        "id": "L-YWkyymaqcF",
        "outputId": "95800d42-48c1-4dd6-a2a7-76d21a801a8e"
      },
      "source": [
        "import matplotlib.pyplot as plt\n",
        "plt.hist(df_non_numeric_profits.Year, bins=range(1955, 2005+1))"
      ],
      "execution_count": 10,
      "outputs": [
        {
          "output_type": "execute_result",
          "data": {
            "text/plain": [
              "(array([ 6.,  2.,  3.,  3.,  3.,  1.,  2.,  2.,  0.,  0.,  1.,  0.,  0.,\n",
              "         0.,  0.,  0.,  7.,  8.,  7.,  7.,  6.,  7.,  7.,  9.,  9.,  7.,\n",
              "         8., 10.,  9., 11., 13., 23., 23., 20., 24., 19., 20., 21., 16.,\n",
              "        16.,  6.,  6.,  4.,  3.,  3.,  4.,  3.,  4.,  5.,  1.]),\n",
              " array([1955, 1956, 1957, 1958, 1959, 1960, 1961, 1962, 1963, 1964, 1965,\n",
              "        1966, 1967, 1968, 1969, 1970, 1971, 1972, 1973, 1974, 1975, 1976,\n",
              "        1977, 1978, 1979, 1980, 1981, 1982, 1983, 1984, 1985, 1986, 1987,\n",
              "        1988, 1989, 1990, 1991, 1992, 1993, 1994, 1995, 1996, 1997, 1998,\n",
              "        1999, 2000, 2001, 2002, 2003, 2004, 2005]),\n",
              " <a list of 50 Patch objects>)"
            ]
          },
          "metadata": {
            "tags": []
          },
          "execution_count": 10
        },
        {
          "output_type": "display_data",
          "data": {
            "image/png": "[encoded data removed]",
            "text/plain": [
              "<Figure size 432x288 with 1 Axes>"
            ]
          },
          "metadata": {
            "tags": [],
            "needs_background": "light"
          }
        }
      ]
    },
    {
      "cell_type": "markdown",
      "metadata": {
        "id": "2BobpdY8d8nv"
      },
      "source": [
        "Let's remove these rows"
      ]
    },
    {
      "cell_type": "code",
      "metadata": {
        "colab": {
          "base_uri": "https://localhost:8080/"
        },
        "id": "HHurGAZ2bBKj",
        "outputId": "c0024f8e-a761-4f91-bb38-b7a6ff590938"
      },
      "source": [
        "df = df.loc[~non_numberic_profits]\n",
        "df.info()"
      ],
      "execution_count": 11,
      "outputs": [
        {
          "output_type": "stream",
          "text": [
            "<class 'pandas.core.frame.DataFrame'>\n",
            "Int64Index: 25131 entries, 0 to 25499\n",
            "Data columns (total 5 columns):\n",
            " #   Column                 Non-Null Count  Dtype  \n",
            "---  ------                 --------------  -----  \n",
            " 0   Year                   25131 non-null  int64  \n",
            " 1   Rank                   25131 non-null  int64  \n",
            " 2   Company                25131 non-null  object \n",
            " 3   Revenue (in millions)  25131 non-null  float64\n",
            " 4   Profit (in millions)   25131 non-null  object \n",
            "dtypes: float64(1), int64(2), object(2)\n",
            "memory usage: 1.2+ MB\n"
          ],
          "name": "stdout"
        }
      ]
    },
    {
      "cell_type": "code",
      "metadata": {
        "colab": {
          "base_uri": "https://localhost:8080/",
          "height": 287
        },
        "id": "5daK-rX0LdD0",
        "outputId": "ff4a226b-eb2c-4cfe-ace5-a982e3a6fc7a"
      },
      "source": [
        "df.describe()"
      ],
      "execution_count": 12,
      "outputs": [
        {
          "output_type": "execute_result",
          "data": {
            "text/html": [
              "<div>\n",
              "<style scoped>\n",
              "    .dataframe tbody tr th:only-of-type {\n",
              "        vertical-align: middle;\n",
              "    }\n",
              "\n",
              "    .dataframe tbody tr th {\n",
              "        vertical-align: top;\n",
              "    }\n",
              "\n",
              "    .dataframe thead th {\n",
              "        text-align: right;\n",
              "    }\n",
              "</style>\n",
              "<table border=\"1\" class=\"dataframe\">\n",
              "  <thead>\n",
              "    <tr style=\"text-align: right;\">\n",
              "      <th></th>\n",
              "      <th>Year</th>\n",
              "      <th>Rank</th>\n",
              "      <th>Revenue (in millions)</th>\n",
              "    </tr>\n",
              "  </thead>\n",
              "  <tbody>\n",
              "    <tr>\n",
              "      <th>count</th>\n",
              "      <td>25131.000000</td>\n",
              "      <td>25131.000000</td>\n",
              "      <td>25131.000000</td>\n",
              "    </tr>\n",
              "    <tr>\n",
              "      <th>mean</th>\n",
              "      <td>1979.926784</td>\n",
              "      <td>249.744777</td>\n",
              "      <td>4304.961780</td>\n",
              "    </tr>\n",
              "    <tr>\n",
              "      <th>std</th>\n",
              "      <td>14.764827</td>\n",
              "      <td>144.443000</td>\n",
              "      <td>11396.723687</td>\n",
              "    </tr>\n",
              "    <tr>\n",
              "      <th>min</th>\n",
              "      <td>1955.000000</td>\n",
              "      <td>1.000000</td>\n",
              "      <td>49.700000</td>\n",
              "    </tr>\n",
              "    <tr>\n",
              "      <th>25%</th>\n",
              "      <td>1967.000000</td>\n",
              "      <td>124.000000</td>\n",
              "      <td>357.900000</td>\n",
              "    </tr>\n",
              "    <tr>\n",
              "      <th>50%</th>\n",
              "      <td>1980.000000</td>\n",
              "      <td>250.000000</td>\n",
              "      <td>1017.600000</td>\n",
              "    </tr>\n",
              "    <tr>\n",
              "      <th>75%</th>\n",
              "      <td>1993.000000</td>\n",
              "      <td>375.000000</td>\n",
              "      <td>3916.100000</td>\n",
              "    </tr>\n",
              "    <tr>\n",
              "      <th>max</th>\n",
              "      <td>2005.000000</td>\n",
              "      <td>500.000000</td>\n",
              "      <td>288189.000000</td>\n",
              "    </tr>\n",
              "  </tbody>\n",
              "</table>\n",
              "</div>"
            ],
            "text/plain": [
              "               Year          Rank  Revenue (in millions)\n",
              "count  25131.000000  25131.000000           25131.000000\n",
              "mean    1979.926784    249.744777            4304.961780\n",
              "std       14.764827    144.443000           11396.723687\n",
              "min     1955.000000      1.000000              49.700000\n",
              "25%     1967.000000    124.000000             357.900000\n",
              "50%     1980.000000    250.000000            1017.600000\n",
              "75%     1993.000000    375.000000            3916.100000\n",
              "max     2005.000000    500.000000          288189.000000"
            ]
          },
          "metadata": {
            "tags": []
          },
          "execution_count": 12
        }
      ]
    },
    {
      "cell_type": "markdown",
      "metadata": {
        "id": "p6TAbqsfJpCx"
      },
      "source": [
        "You are required to explain what you plan on doing with the data.\n",
        " - Why did you chose the specific visualizations? \n",
        " - Why did you choose specific observations for a visualization\n",
        " - How did you Engineer your Data? "
      ]
    },
    {
      "cell_type": "markdown",
      "metadata": {
        "id": "5XHwFcKoJ1vG"
      },
      "source": [
        "# Plots \n",
        "Generate a plot that details the 5 top Companies by Revenue for each Decade.\n",
        " - Top 5 for 1950-1959, 1960-1969 etc. \n",
        " - This Must be a Single plot either static\n",
        "or interactive. "
      ]
    },
    {
      "cell_type": "code",
      "metadata": {
        "colab": {
          "base_uri": "https://localhost:8080/"
        },
        "id": "qcFckPLQJ4sq",
        "outputId": "b852d373-c845-459e-df6d-ea63a70d356b"
      },
      "source": [
        "df['Profit (in millions)'] = df['Profit (in millions)'].apply(pd.to_numeric)\n",
        "df.info()"
      ],
      "execution_count": 13,
      "outputs": [
        {
          "output_type": "stream",
          "text": [
            "<class 'pandas.core.frame.DataFrame'>\n",
            "Int64Index: 25131 entries, 0 to 25499\n",
            "Data columns (total 5 columns):\n",
            " #   Column                 Non-Null Count  Dtype  \n",
            "---  ------                 --------------  -----  \n",
            " 0   Year                   25131 non-null  int64  \n",
            " 1   Rank                   25131 non-null  int64  \n",
            " 2   Company                25131 non-null  object \n",
            " 3   Revenue (in millions)  25131 non-null  float64\n",
            " 4   Profit (in millions)   25131 non-null  float64\n",
            "dtypes: float64(2), int64(2), object(1)\n",
            "memory usage: 1.2+ MB\n"
          ],
          "name": "stdout"
        }
      ]
    },
    {
      "cell_type": "code",
      "metadata": {
        "colab": {
          "base_uri": "https://localhost:8080/",
          "height": 197
        },
        "id": "soWRSZDuUHtN",
        "outputId": "04d120cf-f846-4b51-8ca9-89746574d709"
      },
      "source": [
        "df['decade'] = df.apply(lambda x: int(x.Year/10)*10, axis=1)\n",
        "df.head()"
      ],
      "execution_count": 45,
      "outputs": [
        {
          "output_type": "execute_result",
          "data": {
            "text/html": [
              "<div>\n",
              "<style scoped>\n",
              "    .dataframe tbody tr th:only-of-type {\n",
              "        vertical-align: middle;\n",
              "    }\n",
              "\n",
              "    .dataframe tbody tr th {\n",
              "        vertical-align: top;\n",
              "    }\n",
              "\n",
              "    .dataframe thead th {\n",
              "        text-align: right;\n",
              "    }\n",
              "</style>\n",
              "<table border=\"1\" class=\"dataframe\">\n",
              "  <thead>\n",
              "    <tr style=\"text-align: right;\">\n",
              "      <th></th>\n",
              "      <th>Year</th>\n",
              "      <th>Rank</th>\n",
              "      <th>Company</th>\n",
              "      <th>Revenue (in millions)</th>\n",
              "      <th>Profit (in millions)</th>\n",
              "      <th>decade</th>\n",
              "    </tr>\n",
              "  </thead>\n",
              "  <tbody>\n",
              "    <tr>\n",
              "      <th>0</th>\n",
              "      <td>1955</td>\n",
              "      <td>1</td>\n",
              "      <td>General Motors</td>\n",
              "      <td>9823.5</td>\n",
              "      <td>806.0</td>\n",
              "      <td>1950</td>\n",
              "    </tr>\n",
              "    <tr>\n",
              "      <th>1</th>\n",
              "      <td>1955</td>\n",
              "      <td>2</td>\n",
              "      <td>Exxon Mobil</td>\n",
              "      <td>5661.4</td>\n",
              "      <td>584.8</td>\n",
              "      <td>1950</td>\n",
              "    </tr>\n",
              "    <tr>\n",
              "      <th>2</th>\n",
              "      <td>1955</td>\n",
              "      <td>3</td>\n",
              "      <td>U.S. Steel</td>\n",
              "      <td>3250.4</td>\n",
              "      <td>195.4</td>\n",
              "      <td>1950</td>\n",
              "    </tr>\n",
              "    <tr>\n",
              "      <th>3</th>\n",
              "      <td>1955</td>\n",
              "      <td>4</td>\n",
              "      <td>General Electric</td>\n",
              "      <td>2959.1</td>\n",
              "      <td>212.6</td>\n",
              "      <td>1950</td>\n",
              "    </tr>\n",
              "    <tr>\n",
              "      <th>4</th>\n",
              "      <td>1955</td>\n",
              "      <td>5</td>\n",
              "      <td>Esmark</td>\n",
              "      <td>2510.8</td>\n",
              "      <td>19.1</td>\n",
              "      <td>1950</td>\n",
              "    </tr>\n",
              "  </tbody>\n",
              "</table>\n",
              "</div>"
            ],
            "text/plain": [
              "   Year  Rank  ... Profit (in millions)  decade\n",
              "0  1955     1  ...                806.0    1950\n",
              "1  1955     2  ...                584.8    1950\n",
              "2  1955     3  ...                195.4    1950\n",
              "3  1955     4  ...                212.6    1950\n",
              "4  1955     5  ...                 19.1    1950\n",
              "\n",
              "[5 rows x 6 columns]"
            ]
          },
          "metadata": {
            "tags": []
          },
          "execution_count": 45
        }
      ]
    },
    {
      "cell_type": "code",
      "metadata": {
        "colab": {
          "base_uri": "https://localhost:8080/"
        },
        "id": "I7NdpPPtmitP",
        "outputId": "3af76005-58d0-499f-fa98-94f8412c5ecb"
      },
      "source": [
        "df.decade.unique()"
      ],
      "execution_count": 46,
      "outputs": [
        {
          "output_type": "execute_result",
          "data": {
            "text/plain": [
              "array([1950, 1960, 1970, 1980, 1990, 2000])"
            ]
          },
          "metadata": {
            "tags": []
          },
          "execution_count": 46
        }
      ]
    },
    {
      "cell_type": "code",
      "metadata": {
        "colab": {
          "base_uri": "https://localhost:8080/"
        },
        "id": "ZE1V5c1sqCQg",
        "outputId": "dd997dd6-e6a8-4615-9389-5bc80300c236"
      },
      "source": [
        "df_decade = df.groupby([\"decade\",\"Company\"], as_index=False).sum().sort_values(\"Profit (in millions)\", ascending=False)\n",
        "df_decade.info()"
      ],
      "execution_count": 55,
      "outputs": [
        {
          "output_type": "stream",
          "text": [
            "<class 'pandas.core.frame.DataFrame'>\n",
            "Int64Index: 4346 entries, 3902 to 4268\n",
            "Data columns (total 6 columns):\n",
            " #   Column                 Non-Null Count  Dtype  \n",
            "---  ------                 --------------  -----  \n",
            " 0   decade                 4346 non-null   int64  \n",
            " 1   Company                4346 non-null   object \n",
            " 2   Year                   4346 non-null   int64  \n",
            " 3   Rank                   4346 non-null   int64  \n",
            " 4   Revenue (in millions)  4346 non-null   float64\n",
            " 5   Profit (in millions)   4346 non-null   float64\n",
            "dtypes: float64(2), int64(3), object(1)\n",
            "memory usage: 237.7+ KB\n"
          ],
          "name": "stdout"
        }
      ]
    },
    {
      "cell_type": "code",
      "metadata": {
        "colab": {
          "base_uri": "https://localhost:8080/",
          "height": 197
        },
        "id": "39fajNhpsNmT",
        "outputId": "a61f5f18-10bb-400d-ca8e-b2dded3d3d7c"
      },
      "source": [
        "df_decade[['decade', 'Company', 'Revenue (in millions)',\t'Profit (in millions)']].head()"
      ],
      "execution_count": 61,
      "outputs": [
        {
          "output_type": "execute_result",
          "data": {
            "text/html": [
              "<div>\n",
              "<style scoped>\n",
              "    .dataframe tbody tr th:only-of-type {\n",
              "        vertical-align: middle;\n",
              "    }\n",
              "\n",
              "    .dataframe tbody tr th {\n",
              "        vertical-align: top;\n",
              "    }\n",
              "\n",
              "    .dataframe thead th {\n",
              "        text-align: right;\n",
              "    }\n",
              "</style>\n",
              "<table border=\"1\" class=\"dataframe\">\n",
              "  <thead>\n",
              "    <tr style=\"text-align: right;\">\n",
              "      <th></th>\n",
              "      <th>decade</th>\n",
              "      <th>Company</th>\n",
              "      <th>Revenue (in millions)</th>\n",
              "      <th>Profit (in millions)</th>\n",
              "    </tr>\n",
              "  </thead>\n",
              "  <tbody>\n",
              "    <tr>\n",
              "      <th>3902</th>\n",
              "      <td>2000</td>\n",
              "      <td>Exxon Mobil</td>\n",
              "      <td>1232291.0</td>\n",
              "      <td>99250.0</td>\n",
              "    </tr>\n",
              "    <tr>\n",
              "      <th>3819</th>\n",
              "      <td>2000</td>\n",
              "      <td>Citigroup</td>\n",
              "      <td>609631.0</td>\n",
              "      <td>87687.0</td>\n",
              "    </tr>\n",
              "    <tr>\n",
              "      <th>3937</th>\n",
              "      <td>2000</td>\n",
              "      <td>General Electric</td>\n",
              "      <td>785644.0</td>\n",
              "      <td>82849.0</td>\n",
              "    </tr>\n",
              "    <tr>\n",
              "      <th>3010</th>\n",
              "      <td>1990</td>\n",
              "      <td>Exxon Mobil</td>\n",
              "      <td>1051133.0</td>\n",
              "      <td>58080.0</td>\n",
              "    </tr>\n",
              "    <tr>\n",
              "      <th>3757</th>\n",
              "      <td>2000</td>\n",
              "      <td>Bank of America Corp.</td>\n",
              "      <td>318901.0</td>\n",
              "      <td>56393.0</td>\n",
              "    </tr>\n",
              "  </tbody>\n",
              "</table>\n",
              "</div>"
            ],
            "text/plain": [
              "      decade  ... Profit (in millions)\n",
              "3902    2000  ...              99250.0\n",
              "3819    2000  ...              87687.0\n",
              "3937    2000  ...              82849.0\n",
              "3010    1990  ...              58080.0\n",
              "3757    2000  ...              56393.0\n",
              "\n",
              "[5 rows x 4 columns]"
            ]
          },
          "metadata": {
            "tags": []
          },
          "execution_count": 61
        }
      ]
    },
    {
      "cell_type": "markdown",
      "metadata": {
        "id": "gP6FfidMKBk9"
      },
      "source": [
        "# Distribution of Revenue\n",
        "\n",
        " - Plot a graph depicting the distribution of the “Revenue” in the top 20\n",
        "Companies in 1971. "
      ]
    },
    {
      "cell_type": "code",
      "metadata": {
        "id": "xtzuAFHlKBCG"
      },
      "source": [
        ""
      ],
      "execution_count": null,
      "outputs": []
    },
    {
      "cell_type": "markdown",
      "metadata": {
        "id": "FO9zZ6GRKI2s"
      },
      "source": [
        "# Highest Performing Companies\n",
        "\n",
        " - Find out and visualize which Top 10 Companies profit increased the most\n",
        "between 1990 and 1999 \n",
        " - This Must be a Single plot either static or interactive. "
      ]
    },
    {
      "cell_type": "code",
      "metadata": {
        "id": "3vG3k4Q2KP3g"
      },
      "source": [
        ""
      ],
      "execution_count": null,
      "outputs": []
    },
    {
      "cell_type": "markdown",
      "metadata": {
        "id": "47RJ9owtKU_9"
      },
      "source": [
        "# Revenue by Decade \n",
        "\n",
        " - Observe and plot the average revenue by decade\n",
        " - This Must be a Single plot\n",
        "either static or interactive. "
      ]
    },
    {
      "cell_type": "code",
      "metadata": {
        "id": "DJWarib1Kb4K"
      },
      "source": [
        ""
      ],
      "execution_count": null,
      "outputs": []
    }
  ]
}