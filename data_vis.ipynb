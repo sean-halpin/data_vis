{
  "nbformat": 4,
  "nbformat_minor": 0,
  "metadata": {
    "colab": {
      "name": "data_vis.ipynb",
      "provenance": [],
      "collapsed_sections": [],
      "toc_visible": true,
      "authorship_tag": "ABX9TyOfUm9634+YVsIY8UrfFiE4",
      "include_colab_link": true
    },
    "kernelspec": {
      "name": "python3",
      "display_name": "Python 3"
    },
    "language_info": {
      "name": "python"
    }
  },
  "cells": [
    {
      "cell_type": "markdown",
      "metadata": {
        "id": "view-in-github",
        "colab_type": "text"
      },
      "source": [
        "<a href=\"https://colab.research.google.com/github/sean-halpin/data_vis/blob/main/data_vis.ipynb\" target=\"_parent\"><img src=\"https://colab.research.google.com/assets/colab-badge.svg\" alt=\"Open In Colab\"/></a>"
      ]
    },
    {
      "cell_type": "code",
      "metadata": {
        "id": "rolZMIoTBMLd"
      },
      "source": [
        "import numpy as np\n",
        "import pandas as pd"
      ],
      "execution_count": 1,
      "outputs": []
    },
    {
      "cell_type": "markdown",
      "metadata": {
        "id": "p6TAbqsfJpCx"
      },
      "source": [
        "You are required to explain what you plan on doing with the data.\n",
        " - Why did you chose the specific visualizations? \n",
        " - Why did you choose specific observations for a visualization\n",
        " - How did you Engineer your Data? "
      ]
    },
    {
      "cell_type": "markdown",
      "metadata": {
        "id": "u_bq9zoEYu0K"
      },
      "source": [
        "Let's take a peak at the data by loading it into a pandas dataframe and printing a few lines"
      ]
    },
    {
      "cell_type": "code",
      "metadata": {
        "colab": {
          "base_uri": "https://localhost:8080/",
          "height": 197
        },
        "id": "xUYLifiWIk8R",
        "outputId": "1ccda9c2-cba7-48d2-e9fc-bae947fbfc6c"
      },
      "source": [
        "df=pd.read_csv(\"fortune500.csv\")\n",
        "df.head()"
      ],
      "execution_count": 3,
      "outputs": [
        {
          "output_type": "execute_result",
          "data": {
            "text/html": [
              "<div>\n",
              "<style scoped>\n",
              "    .dataframe tbody tr th:only-of-type {\n",
              "        vertical-align: middle;\n",
              "    }\n",
              "\n",
              "    .dataframe tbody tr th {\n",
              "        vertical-align: top;\n",
              "    }\n",
              "\n",
              "    .dataframe thead th {\n",
              "        text-align: right;\n",
              "    }\n",
              "</style>\n",
              "<table border=\"1\" class=\"dataframe\">\n",
              "  <thead>\n",
              "    <tr style=\"text-align: right;\">\n",
              "      <th></th>\n",
              "      <th>Year</th>\n",
              "      <th>Rank</th>\n",
              "      <th>Company</th>\n",
              "      <th>Revenue (in millions)</th>\n",
              "      <th>Profit (in millions)</th>\n",
              "    </tr>\n",
              "  </thead>\n",
              "  <tbody>\n",
              "    <tr>\n",
              "      <th>0</th>\n",
              "      <td>1955</td>\n",
              "      <td>1</td>\n",
              "      <td>General Motors</td>\n",
              "      <td>9823.5</td>\n",
              "      <td>806</td>\n",
              "    </tr>\n",
              "    <tr>\n",
              "      <th>1</th>\n",
              "      <td>1955</td>\n",
              "      <td>2</td>\n",
              "      <td>Exxon Mobil</td>\n",
              "      <td>5661.4</td>\n",
              "      <td>584.8</td>\n",
              "    </tr>\n",
              "    <tr>\n",
              "      <th>2</th>\n",
              "      <td>1955</td>\n",
              "      <td>3</td>\n",
              "      <td>U.S. Steel</td>\n",
              "      <td>3250.4</td>\n",
              "      <td>195.4</td>\n",
              "    </tr>\n",
              "    <tr>\n",
              "      <th>3</th>\n",
              "      <td>1955</td>\n",
              "      <td>4</td>\n",
              "      <td>General Electric</td>\n",
              "      <td>2959.1</td>\n",
              "      <td>212.6</td>\n",
              "    </tr>\n",
              "    <tr>\n",
              "      <th>4</th>\n",
              "      <td>1955</td>\n",
              "      <td>5</td>\n",
              "      <td>Esmark</td>\n",
              "      <td>2510.8</td>\n",
              "      <td>19.1</td>\n",
              "    </tr>\n",
              "  </tbody>\n",
              "</table>\n",
              "</div>"
            ],
            "text/plain": [
              "   Year  Rank           Company  Revenue (in millions) Profit (in millions)\n",
              "0  1955     1    General Motors                 9823.5                  806\n",
              "1  1955     2       Exxon Mobil                 5661.4                584.8\n",
              "2  1955     3        U.S. Steel                 3250.4                195.4\n",
              "3  1955     4  General Electric                 2959.1                212.6\n",
              "4  1955     5            Esmark                 2510.8                 19.1"
            ]
          },
          "metadata": {
            "tags": []
          },
          "execution_count": 3
        }
      ]
    },
    {
      "cell_type": "markdown",
      "metadata": {
        "id": "tfsX9nMLY5Xf"
      },
      "source": [
        "Let's see what the inferred data types are for these columns"
      ]
    },
    {
      "cell_type": "code",
      "metadata": {
        "colab": {
          "base_uri": "https://localhost:8080/"
        },
        "id": "xF8aNahCLZmq",
        "outputId": "7664e8b2-b671-40d0-890e-dd490fc74cad"
      },
      "source": [
        "df.info()"
      ],
      "execution_count": 4,
      "outputs": [
        {
          "output_type": "stream",
          "text": [
            "<class 'pandas.core.frame.DataFrame'>\n",
            "RangeIndex: 25500 entries, 0 to 25499\n",
            "Data columns (total 5 columns):\n",
            " #   Column                 Non-Null Count  Dtype  \n",
            "---  ------                 --------------  -----  \n",
            " 0   Year                   25500 non-null  int64  \n",
            " 1   Rank                   25500 non-null  int64  \n",
            " 2   Company                25500 non-null  object \n",
            " 3   Revenue (in millions)  25500 non-null  float64\n",
            " 4   Profit (in millions)   25500 non-null  object \n",
            "dtypes: float64(1), int64(2), object(2)\n",
            "memory usage: 996.2+ KB\n"
          ],
          "name": "stdout"
        }
      ]
    },
    {
      "cell_type": "markdown",
      "metadata": {
        "id": "iaTwKTuRZA3U"
      },
      "source": [
        "Profit coming back as an object types seems suspicious, lets check it for non numeric values. "
      ]
    },
    {
      "cell_type": "code",
      "metadata": {
        "colab": {
          "base_uri": "https://localhost:8080/",
          "height": 197
        },
        "id": "TJLHXVr4W6Vr",
        "outputId": "469e2f2b-1548-4ae1-8e6d-7d1e2e0be624"
      },
      "source": [
        "non_numberic_profits = df['Profit (in millions)'].str.contains('[^0-9.-]')\n",
        "df_non_numeric_profits = df.loc[non_numberic_profits]\n",
        "df_non_numeric_profits.head()"
      ],
      "execution_count": 5,
      "outputs": [
        {
          "output_type": "execute_result",
          "data": {
            "text/html": [
              "<div>\n",
              "<style scoped>\n",
              "    .dataframe tbody tr th:only-of-type {\n",
              "        vertical-align: middle;\n",
              "    }\n",
              "\n",
              "    .dataframe tbody tr th {\n",
              "        vertical-align: top;\n",
              "    }\n",
              "\n",
              "    .dataframe thead th {\n",
              "        text-align: right;\n",
              "    }\n",
              "</style>\n",
              "<table border=\"1\" class=\"dataframe\">\n",
              "  <thead>\n",
              "    <tr style=\"text-align: right;\">\n",
              "      <th></th>\n",
              "      <th>Year</th>\n",
              "      <th>Rank</th>\n",
              "      <th>Company</th>\n",
              "      <th>Revenue (in millions)</th>\n",
              "      <th>Profit (in millions)</th>\n",
              "    </tr>\n",
              "  </thead>\n",
              "  <tbody>\n",
              "    <tr>\n",
              "      <th>228</th>\n",
              "      <td>1955</td>\n",
              "      <td>229</td>\n",
              "      <td>Norton</td>\n",
              "      <td>135.0</td>\n",
              "      <td>N.A.</td>\n",
              "    </tr>\n",
              "    <tr>\n",
              "      <th>290</th>\n",
              "      <td>1955</td>\n",
              "      <td>291</td>\n",
              "      <td>Schlitz Brewing</td>\n",
              "      <td>100.0</td>\n",
              "      <td>N.A.</td>\n",
              "    </tr>\n",
              "    <tr>\n",
              "      <th>294</th>\n",
              "      <td>1955</td>\n",
              "      <td>295</td>\n",
              "      <td>Pacific Vegetable Oil</td>\n",
              "      <td>97.9</td>\n",
              "      <td>N.A.</td>\n",
              "    </tr>\n",
              "    <tr>\n",
              "      <th>296</th>\n",
              "      <td>1955</td>\n",
              "      <td>297</td>\n",
              "      <td>Liebmann Breweries</td>\n",
              "      <td>96.0</td>\n",
              "      <td>N.A.</td>\n",
              "    </tr>\n",
              "    <tr>\n",
              "      <th>352</th>\n",
              "      <td>1955</td>\n",
              "      <td>353</td>\n",
              "      <td>Minneapolis-Moline</td>\n",
              "      <td>77.4</td>\n",
              "      <td>N.A.</td>\n",
              "    </tr>\n",
              "  </tbody>\n",
              "</table>\n",
              "</div>"
            ],
            "text/plain": [
              "     Year  Rank  ... Revenue (in millions)  Profit (in millions)\n",
              "228  1955   229  ...                 135.0                  N.A.\n",
              "290  1955   291  ...                 100.0                  N.A.\n",
              "294  1955   295  ...                  97.9                  N.A.\n",
              "296  1955   297  ...                  96.0                  N.A.\n",
              "352  1955   353  ...                  77.4                  N.A.\n",
              "\n",
              "[5 rows x 5 columns]"
            ]
          },
          "metadata": {
            "tags": []
          },
          "execution_count": 5
        }
      ]
    },
    {
      "cell_type": "markdown",
      "metadata": {
        "id": "f8u9kJiMd_Va"
      },
      "source": [
        "Lets visualise how many rows per year have non numeric profits"
      ]
    },
    {
      "cell_type": "code",
      "metadata": {
        "colab": {
          "base_uri": "https://localhost:8080/"
        },
        "id": "9GRdgW_GR4Lm",
        "outputId": "91922379-337e-4528-a1a8-3fb44bd2076a"
      },
      "source": [
        "df.Year.unique()"
      ],
      "execution_count": 8,
      "outputs": [
        {
          "output_type": "execute_result",
          "data": {
            "text/plain": [
              "array([1955, 1956, 1957, 1958, 1959, 1960, 1961, 1962, 1963, 1964, 1965,\n",
              "       1966, 1967, 1968, 1969, 1970, 1971, 1972, 1973, 1974, 1975, 1976,\n",
              "       1977, 1978, 1979, 1980, 1981, 1982, 1983, 1984, 1985, 1986, 1987,\n",
              "       1988, 1989, 1990, 1991, 1992, 1993, 1994, 1995, 1996, 1997, 1998,\n",
              "       1999, 2000, 2001, 2002, 2003, 2004, 2005])"
            ]
          },
          "metadata": {
            "tags": []
          },
          "execution_count": 8
        }
      ]
    },
    {
      "cell_type": "code",
      "metadata": {
        "colab": {
          "base_uri": "https://localhost:8080/",
          "height": 445
        },
        "id": "L-YWkyymaqcF",
        "outputId": "95800d42-48c1-4dd6-a2a7-76d21a801a8e"
      },
      "source": [
        "import matplotlib.pyplot as plt\n",
        "plt.hist(df_non_numeric_profits.Year, bins=range(1955, 2005+1))"
      ],
      "execution_count": 10,
      "outputs": [
        {
          "output_type": "execute_result",
          "data": {
            "text/plain": [
              "(array([ 6.,  2.,  3.,  3.,  3.,  1.,  2.,  2.,  0.,  0.,  1.,  0.,  0.,\n",
              "         0.,  0.,  0.,  7.,  8.,  7.,  7.,  6.,  7.,  7.,  9.,  9.,  7.,\n",
              "         8., 10.,  9., 11., 13., 23., 23., 20., 24., 19., 20., 21., 16.,\n",
              "        16.,  6.,  6.,  4.,  3.,  3.,  4.,  3.,  4.,  5.,  1.]),\n",
              " array([1955, 1956, 1957, 1958, 1959, 1960, 1961, 1962, 1963, 1964, 1965,\n",
              "        1966, 1967, 1968, 1969, 1970, 1971, 1972, 1973, 1974, 1975, 1976,\n",
              "        1977, 1978, 1979, 1980, 1981, 1982, 1983, 1984, 1985, 1986, 1987,\n",
              "        1988, 1989, 1990, 1991, 1992, 1993, 1994, 1995, 1996, 1997, 1998,\n",
              "        1999, 2000, 2001, 2002, 2003, 2004, 2005]),\n",
              " <a list of 50 Patch objects>)"
            ]
          },
          "metadata": {
            "tags": []
          },
          "execution_count": 10
        },
        {
          "output_type": "display_data",
          "data": {
            "image/png": "[encoded data removed]",
            "text/plain": [
              "<Figure size 432x288 with 1 Axes>"
            ]
          },
          "metadata": {
            "tags": [],
            "needs_background": "light"
          }
        }
      ]
    },
    {
      "cell_type": "markdown",
      "metadata": {
        "id": "2BobpdY8d8nv"
      },
      "source": [
        "We have a lot of data missing Profits between 1971 and 2004\n",
        "\n",
        "This shouldn't affect our analysis too much considering we have 25500 data points. \n",
        "Let's remove these rows"
      ]
    },
    {
      "cell_type": "code",
      "metadata": {
        "colab": {
          "base_uri": "https://localhost:8080/"
        },
        "id": "HHurGAZ2bBKj",
        "outputId": "1c56bd11-83e3-4f1e-b62f-8ab83138afc5"
      },
      "source": [
        "df = df.loc[~non_numberic_profits]\n",
        "df.info()"
      ],
      "execution_count": 287,
      "outputs": [
        {
          "output_type": "stream",
          "text": [
            "<class 'pandas.core.frame.DataFrame'>\n",
            "Int64Index: 25131 entries, 0 to 25499\n",
            "Data columns (total 7 columns):\n",
            " #   Column                 Non-Null Count  Dtype  \n",
            "---  ------                 --------------  -----  \n",
            " 0   Year                   25131 non-null  int64  \n",
            " 1   Rank                   25131 non-null  int64  \n",
            " 2   Company                25131 non-null  object \n",
            " 3   Revenue (in millions)  25131 non-null  float64\n",
            " 4   Profit (in millions)   25131 non-null  float64\n",
            " 5   decade                 25131 non-null  int64  \n",
            " 6   profit_diff_1990       25131 non-null  float64\n",
            "dtypes: float64(3), int64(3), object(1)\n",
            "memory usage: 1.5+ MB\n"
          ],
          "name": "stdout"
        }
      ]
    },
    {
      "cell_type": "code",
      "metadata": {
        "colab": {
          "base_uri": "https://localhost:8080/",
          "height": 287
        },
        "id": "5daK-rX0LdD0",
        "outputId": "ff4a226b-eb2c-4cfe-ace5-a982e3a6fc7a"
      },
      "source": [
        "df.describe()"
      ],
      "execution_count": 12,
      "outputs": [
        {
          "output_type": "execute_result",
          "data": {
            "text/html": [
              "<div>\n",
              "<style scoped>\n",
              "    .dataframe tbody tr th:only-of-type {\n",
              "        vertical-align: middle;\n",
              "    }\n",
              "\n",
              "    .dataframe tbody tr th {\n",
              "        vertical-align: top;\n",
              "    }\n",
              "\n",
              "    .dataframe thead th {\n",
              "        text-align: right;\n",
              "    }\n",
              "</style>\n",
              "<table border=\"1\" class=\"dataframe\">\n",
              "  <thead>\n",
              "    <tr style=\"text-align: right;\">\n",
              "      <th></th>\n",
              "      <th>Year</th>\n",
              "      <th>Rank</th>\n",
              "      <th>Revenue (in millions)</th>\n",
              "    </tr>\n",
              "  </thead>\n",
              "  <tbody>\n",
              "    <tr>\n",
              "      <th>count</th>\n",
              "      <td>25131.000000</td>\n",
              "      <td>25131.000000</td>\n",
              "      <td>25131.000000</td>\n",
              "    </tr>\n",
              "    <tr>\n",
              "      <th>mean</th>\n",
              "      <td>1979.926784</td>\n",
              "      <td>249.744777</td>\n",
              "      <td>4304.961780</td>\n",
              "    </tr>\n",
              "    <tr>\n",
              "      <th>std</th>\n",
              "      <td>14.764827</td>\n",
              "      <td>144.443000</td>\n",
              "      <td>11396.723687</td>\n",
              "    </tr>\n",
              "    <tr>\n",
              "      <th>min</th>\n",
              "      <td>1955.000000</td>\n",
              "      <td>1.000000</td>\n",
              "      <td>49.700000</td>\n",
              "    </tr>\n",
              "    <tr>\n",
              "      <th>25%</th>\n",
              "      <td>1967.000000</td>\n",
              "      <td>124.000000</td>\n",
              "      <td>357.900000</td>\n",
              "    </tr>\n",
              "    <tr>\n",
              "      <th>50%</th>\n",
              "      <td>1980.000000</td>\n",
              "      <td>250.000000</td>\n",
              "      <td>1017.600000</td>\n",
              "    </tr>\n",
              "    <tr>\n",
              "      <th>75%</th>\n",
              "      <td>1993.000000</td>\n",
              "      <td>375.000000</td>\n",
              "      <td>3916.100000</td>\n",
              "    </tr>\n",
              "    <tr>\n",
              "      <th>max</th>\n",
              "      <td>2005.000000</td>\n",
              "      <td>500.000000</td>\n",
              "      <td>288189.000000</td>\n",
              "    </tr>\n",
              "  </tbody>\n",
              "</table>\n",
              "</div>"
            ],
            "text/plain": [
              "               Year          Rank  Revenue (in millions)\n",
              "count  25131.000000  25131.000000           25131.000000\n",
              "mean    1979.926784    249.744777            4304.961780\n",
              "std       14.764827    144.443000           11396.723687\n",
              "min     1955.000000      1.000000              49.700000\n",
              "25%     1967.000000    124.000000             357.900000\n",
              "50%     1980.000000    250.000000            1017.600000\n",
              "75%     1993.000000    375.000000            3916.100000\n",
              "max     2005.000000    500.000000          288189.000000"
            ]
          },
          "metadata": {
            "tags": []
          },
          "execution_count": 12
        }
      ]
    },
    {
      "cell_type": "markdown",
      "metadata": {
        "id": "5XHwFcKoJ1vG"
      },
      "source": [
        "# Plots \n",
        "Generate a plot that details the 5 top Companies by Revenue for each Decade.\n",
        " - Top 5 for 1950-1959, 1960-1969 etc. \n",
        " - This Must be a Single plot either static\n",
        "or interactive. "
      ]
    },
    {
      "cell_type": "markdown",
      "metadata": {
        "id": "rQUo_wMjZu6d"
      },
      "source": [
        "Let's convert our remaining Profit values to numerics, to ensure we don't have strings that could affect our plots. "
      ]
    },
    {
      "cell_type": "code",
      "metadata": {
        "colab": {
          "base_uri": "https://localhost:8080/"
        },
        "id": "qcFckPLQJ4sq",
        "outputId": "b852d373-c845-459e-df6d-ea63a70d356b"
      },
      "source": [
        "df['Profit (in millions)'] = df['Profit (in millions)'].apply(pd.to_numeric)\n",
        "df.info()"
      ],
      "execution_count": 13,
      "outputs": [
        {
          "output_type": "stream",
          "text": [
            "<class 'pandas.core.frame.DataFrame'>\n",
            "Int64Index: 25131 entries, 0 to 25499\n",
            "Data columns (total 5 columns):\n",
            " #   Column                 Non-Null Count  Dtype  \n",
            "---  ------                 --------------  -----  \n",
            " 0   Year                   25131 non-null  int64  \n",
            " 1   Rank                   25131 non-null  int64  \n",
            " 2   Company                25131 non-null  object \n",
            " 3   Revenue (in millions)  25131 non-null  float64\n",
            " 4   Profit (in millions)   25131 non-null  float64\n",
            "dtypes: float64(2), int64(2), object(1)\n",
            "memory usage: 1.2+ MB\n"
          ],
          "name": "stdout"
        }
      ]
    },
    {
      "cell_type": "markdown",
      "metadata": {
        "id": "DSv-slumZ7FN"
      },
      "source": [
        "Let's add a column for each entry, indicating the decade in which that datapoint belongs. "
      ]
    },
    {
      "cell_type": "code",
      "metadata": {
        "colab": {
          "base_uri": "https://localhost:8080/",
          "height": 197
        },
        "id": "soWRSZDuUHtN",
        "outputId": "04d120cf-f846-4b51-8ca9-89746574d709"
      },
      "source": [
        "df['decade'] = df.apply(lambda x: int(x.Year/10)*10, axis=1)\n",
        "df.head()"
      ],
      "execution_count": 45,
      "outputs": [
        {
          "output_type": "execute_result",
          "data": {
            "text/html": [
              "<div>\n",
              "<style scoped>\n",
              "    .dataframe tbody tr th:only-of-type {\n",
              "        vertical-align: middle;\n",
              "    }\n",
              "\n",
              "    .dataframe tbody tr th {\n",
              "        vertical-align: top;\n",
              "    }\n",
              "\n",
              "    .dataframe thead th {\n",
              "        text-align: right;\n",
              "    }\n",
              "</style>\n",
              "<table border=\"1\" class=\"dataframe\">\n",
              "  <thead>\n",
              "    <tr style=\"text-align: right;\">\n",
              "      <th></th>\n",
              "      <th>Year</th>\n",
              "      <th>Rank</th>\n",
              "      <th>Company</th>\n",
              "      <th>Revenue (in millions)</th>\n",
              "      <th>Profit (in millions)</th>\n",
              "      <th>decade</th>\n",
              "    </tr>\n",
              "  </thead>\n",
              "  <tbody>\n",
              "    <tr>\n",
              "      <th>0</th>\n",
              "      <td>1955</td>\n",
              "      <td>1</td>\n",
              "      <td>General Motors</td>\n",
              "      <td>9823.5</td>\n",
              "      <td>806.0</td>\n",
              "      <td>1950</td>\n",
              "    </tr>\n",
              "    <tr>\n",
              "      <th>1</th>\n",
              "      <td>1955</td>\n",
              "      <td>2</td>\n",
              "      <td>Exxon Mobil</td>\n",
              "      <td>5661.4</td>\n",
              "      <td>584.8</td>\n",
              "      <td>1950</td>\n",
              "    </tr>\n",
              "    <tr>\n",
              "      <th>2</th>\n",
              "      <td>1955</td>\n",
              "      <td>3</td>\n",
              "      <td>U.S. Steel</td>\n",
              "      <td>3250.4</td>\n",
              "      <td>195.4</td>\n",
              "      <td>1950</td>\n",
              "    </tr>\n",
              "    <tr>\n",
              "      <th>3</th>\n",
              "      <td>1955</td>\n",
              "      <td>4</td>\n",
              "      <td>General Electric</td>\n",
              "      <td>2959.1</td>\n",
              "      <td>212.6</td>\n",
              "      <td>1950</td>\n",
              "    </tr>\n",
              "    <tr>\n",
              "      <th>4</th>\n",
              "      <td>1955</td>\n",
              "      <td>5</td>\n",
              "      <td>Esmark</td>\n",
              "      <td>2510.8</td>\n",
              "      <td>19.1</td>\n",
              "      <td>1950</td>\n",
              "    </tr>\n",
              "  </tbody>\n",
              "</table>\n",
              "</div>"
            ],
            "text/plain": [
              "   Year  Rank  ... Profit (in millions)  decade\n",
              "0  1955     1  ...                806.0    1950\n",
              "1  1955     2  ...                584.8    1950\n",
              "2  1955     3  ...                195.4    1950\n",
              "3  1955     4  ...                212.6    1950\n",
              "4  1955     5  ...                 19.1    1950\n",
              "\n",
              "[5 rows x 6 columns]"
            ]
          },
          "metadata": {
            "tags": []
          },
          "execution_count": 45
        }
      ]
    },
    {
      "cell_type": "markdown",
      "metadata": {
        "id": "u1TiphZWaCo_"
      },
      "source": [
        "Now, let's sanity check the decades we have inferred. "
      ]
    },
    {
      "cell_type": "code",
      "metadata": {
        "colab": {
          "base_uri": "https://localhost:8080/"
        },
        "id": "I7NdpPPtmitP",
        "outputId": "102b561b-33ca-44fa-a37b-0857abd28d5d"
      },
      "source": [
        "df.decade.unique()"
      ],
      "execution_count": 85,
      "outputs": [
        {
          "output_type": "execute_result",
          "data": {
            "text/plain": [
              "array([1950, 1960, 1970, 1980, 1990, 2000])"
            ]
          },
          "metadata": {
            "tags": []
          },
          "execution_count": 85
        }
      ]
    },
    {
      "cell_type": "code",
      "metadata": {
        "colab": {
          "base_uri": "https://localhost:8080/"
        },
        "id": "B-vGDO7KTSbf",
        "outputId": "5f3d9fcb-d41c-440a-b011-b03aa72cd11a"
      },
      "source": [
        "len(df.decade.unique())"
      ],
      "execution_count": 86,
      "outputs": [
        {
          "output_type": "execute_result",
          "data": {
            "text/plain": [
              "6"
            ]
          },
          "metadata": {
            "tags": []
          },
          "execution_count": 86
        }
      ]
    },
    {
      "cell_type": "markdown",
      "metadata": {
        "id": "PvoZT3LgaRJD"
      },
      "source": [
        "Let's group the data points by decade and Company, so we can sum & sort the Revenue total for the decade for each Company. \n",
        "\n",
        "This should give us the data we need for our plot. "
      ]
    },
    {
      "cell_type": "code",
      "metadata": {
        "colab": {
          "base_uri": "https://localhost:8080/"
        },
        "id": "ZE1V5c1sqCQg",
        "outputId": "7d639188-5282-4d17-f0a9-10bf86f017f0"
      },
      "source": [
        "df_decade = df.groupby([\"decade\",\"Company\"], as_index=False).sum().sort_values(\"Revenue (in millions)\", ascending=False)\n",
        "df_decade.info()"
      ],
      "execution_count": 288,
      "outputs": [
        {
          "output_type": "stream",
          "text": [
            "<class 'pandas.core.frame.DataFrame'>\n",
            "Int64Index: 4346 entries, 3070 to 265\n",
            "Data columns (total 7 columns):\n",
            " #   Column                 Non-Null Count  Dtype  \n",
            "---  ------                 --------------  -----  \n",
            " 0   decade                 4346 non-null   int64  \n",
            " 1   Company                4346 non-null   object \n",
            " 2   Year                   4346 non-null   int64  \n",
            " 3   Rank                   4346 non-null   int64  \n",
            " 4   Revenue (in millions)  4346 non-null   float64\n",
            " 5   Profit (in millions)   4346 non-null   float64\n",
            " 6   profit_diff_1990       4346 non-null   float64\n",
            "dtypes: float64(3), int64(3), object(1)\n",
            "memory usage: 271.6+ KB\n"
          ],
          "name": "stdout"
        }
      ]
    },
    {
      "cell_type": "code",
      "metadata": {
        "colab": {
          "base_uri": "https://localhost:8080/",
          "height": 197
        },
        "id": "39fajNhpsNmT",
        "outputId": "66058771-229a-47ba-90f7-d5b2f8c923f2"
      },
      "source": [
        "agg_decade = df_decade[['decade', 'Company', 'Revenue (in millions)',\t'Profit (in millions)']]\n",
        "agg_decade.head()"
      ],
      "execution_count": 92,
      "outputs": [
        {
          "output_type": "execute_result",
          "data": {
            "text/html": [
              "<div>\n",
              "<style scoped>\n",
              "    .dataframe tbody tr th:only-of-type {\n",
              "        vertical-align: middle;\n",
              "    }\n",
              "\n",
              "    .dataframe tbody tr th {\n",
              "        vertical-align: top;\n",
              "    }\n",
              "\n",
              "    .dataframe thead th {\n",
              "        text-align: right;\n",
              "    }\n",
              "</style>\n",
              "<table border=\"1\" class=\"dataframe\">\n",
              "  <thead>\n",
              "    <tr style=\"text-align: right;\">\n",
              "      <th></th>\n",
              "      <th>decade</th>\n",
              "      <th>Company</th>\n",
              "      <th>Revenue (in millions)</th>\n",
              "      <th>Profit (in millions)</th>\n",
              "    </tr>\n",
              "  </thead>\n",
              "  <tbody>\n",
              "    <tr>\n",
              "      <th>3070</th>\n",
              "      <td>1990</td>\n",
              "      <td>General Motors</td>\n",
              "      <td>1473915.0</td>\n",
              "      <td>3151.6</td>\n",
              "    </tr>\n",
              "    <tr>\n",
              "      <th>4314</th>\n",
              "      <td>2000</td>\n",
              "      <td>Wal-Mart Stores</td>\n",
              "      <td>1373311.0</td>\n",
              "      <td>45703.0</td>\n",
              "    </tr>\n",
              "    <tr>\n",
              "      <th>3902</th>\n",
              "      <td>2000</td>\n",
              "      <td>Exxon Mobil</td>\n",
              "      <td>1232291.0</td>\n",
              "      <td>99250.0</td>\n",
              "    </tr>\n",
              "    <tr>\n",
              "      <th>3043</th>\n",
              "      <td>1990</td>\n",
              "      <td>Ford Motor</td>\n",
              "      <td>1204086.7</td>\n",
              "      <td>40465.1</td>\n",
              "    </tr>\n",
              "    <tr>\n",
              "      <th>3939</th>\n",
              "      <td>2000</td>\n",
              "      <td>General Motors</td>\n",
              "      <td>1126875.2</td>\n",
              "      <td>19418.0</td>\n",
              "    </tr>\n",
              "  </tbody>\n",
              "</table>\n",
              "</div>"
            ],
            "text/plain": [
              "      decade          Company  Revenue (in millions)  Profit (in millions)\n",
              "3070    1990   General Motors              1473915.0                3151.6\n",
              "4314    2000  Wal-Mart Stores              1373311.0               45703.0\n",
              "3902    2000      Exxon Mobil              1232291.0               99250.0\n",
              "3043    1990       Ford Motor              1204086.7               40465.1\n",
              "3939    2000   General Motors              1126875.2               19418.0"
            ]
          },
          "metadata": {
            "tags": []
          },
          "execution_count": 92
        }
      ]
    },
    {
      "cell_type": "code",
      "metadata": {
        "colab": {
          "base_uri": "https://localhost:8080/",
          "height": 406
        },
        "id": "Y0WwVXlFPk-B",
        "outputId": "dd3573c1-dc52-4a9c-b3bb-a2184c47a551"
      },
      "source": [
        "agg_decade.loc[agg_decade['decade'] == 1950]"
      ],
      "execution_count": 95,
      "outputs": [
        {
          "output_type": "execute_result",
          "data": {
            "text/html": [
              "<div>\n",
              "<style scoped>\n",
              "    .dataframe tbody tr th:only-of-type {\n",
              "        vertical-align: middle;\n",
              "    }\n",
              "\n",
              "    .dataframe tbody tr th {\n",
              "        vertical-align: top;\n",
              "    }\n",
              "\n",
              "    .dataframe thead th {\n",
              "        text-align: right;\n",
              "    }\n",
              "</style>\n",
              "<table border=\"1\" class=\"dataframe\">\n",
              "  <thead>\n",
              "    <tr style=\"text-align: right;\">\n",
              "      <th></th>\n",
              "      <th>decade</th>\n",
              "      <th>Company</th>\n",
              "      <th>Revenue (in millions)</th>\n",
              "      <th>Profit (in millions)</th>\n",
              "    </tr>\n",
              "  </thead>\n",
              "  <tbody>\n",
              "    <tr>\n",
              "      <th>254</th>\n",
              "      <td>1950</td>\n",
              "      <td>General Motors</td>\n",
              "      <td>53575.0</td>\n",
              "      <td>4320.1</td>\n",
              "    </tr>\n",
              "    <tr>\n",
              "      <th>217</th>\n",
              "      <td>1950</td>\n",
              "      <td>Exxon Mobil</td>\n",
              "      <td>34434.5</td>\n",
              "      <td>3470.3</td>\n",
              "    </tr>\n",
              "    <tr>\n",
              "      <th>231</th>\n",
              "      <td>1950</td>\n",
              "      <td>Ford Motor</td>\n",
              "      <td>20142.6</td>\n",
              "      <td>1052.1</td>\n",
              "    </tr>\n",
              "    <tr>\n",
              "      <th>567</th>\n",
              "      <td>1950</td>\n",
              "      <td>U.S. Steel</td>\n",
              "      <td>19463.0</td>\n",
              "      <td>1634.6</td>\n",
              "    </tr>\n",
              "    <tr>\n",
              "      <th>250</th>\n",
              "      <td>1950</td>\n",
              "      <td>General Electric</td>\n",
              "      <td>18601.0</td>\n",
              "      <td>1118.1</td>\n",
              "    </tr>\n",
              "    <tr>\n",
              "      <th>...</th>\n",
              "      <td>...</td>\n",
              "      <td>...</td>\n",
              "      <td>...</td>\n",
              "      <td>...</td>\n",
              "    </tr>\n",
              "    <tr>\n",
              "      <th>352</th>\n",
              "      <td>1950</td>\n",
              "      <td>Liquid Carbonic</td>\n",
              "      <td>51.4</td>\n",
              "      <td>2.8</td>\n",
              "    </tr>\n",
              "    <tr>\n",
              "      <th>563</th>\n",
              "      <td>1950</td>\n",
              "      <td>Truax-Traer Coal</td>\n",
              "      <td>50.5</td>\n",
              "      <td>2.5</td>\n",
              "    </tr>\n",
              "    <tr>\n",
              "      <th>96</th>\n",
              "      <td>1950</td>\n",
              "      <td>Bullard</td>\n",
              "      <td>50.2</td>\n",
              "      <td>4.8</td>\n",
              "    </tr>\n",
              "    <tr>\n",
              "      <th>176</th>\n",
              "      <td>1950</td>\n",
              "      <td>Cuban-American Sugar</td>\n",
              "      <td>50.1</td>\n",
              "      <td>0.7</td>\n",
              "    </tr>\n",
              "    <tr>\n",
              "      <th>265</th>\n",
              "      <td>1950</td>\n",
              "      <td>Goodall-Sanford</td>\n",
              "      <td>49.7</td>\n",
              "      <td>-2.7</td>\n",
              "    </tr>\n",
              "  </tbody>\n",
              "</table>\n",
              "<p>612 rows × 4 columns</p>\n",
              "</div>"
            ],
            "text/plain": [
              "     decade               Company  Revenue (in millions)  Profit (in millions)\n",
              "254    1950        General Motors                53575.0                4320.1\n",
              "217    1950           Exxon Mobil                34434.5                3470.3\n",
              "231    1950            Ford Motor                20142.6                1052.1\n",
              "567    1950            U.S. Steel                19463.0                1634.6\n",
              "250    1950      General Electric                18601.0                1118.1\n",
              "..      ...                   ...                    ...                   ...\n",
              "352    1950       Liquid Carbonic                   51.4                   2.8\n",
              "563    1950      Truax-Traer Coal                   50.5                   2.5\n",
              "96     1950               Bullard                   50.2                   4.8\n",
              "176    1950  Cuban-American Sugar                   50.1                   0.7\n",
              "265    1950       Goodall-Sanford                   49.7                  -2.7\n",
              "\n",
              "[612 rows x 4 columns]"
            ]
          },
          "metadata": {
            "tags": []
          },
          "execution_count": 95
        }
      ]
    },
    {
      "cell_type": "markdown",
      "metadata": {
        "id": "edZOD901arFQ"
      },
      "source": [
        "Let's grab the revenue values for each company per decade, sort them and take the top 5 for each decade. "
      ]
    },
    {
      "cell_type": "code",
      "metadata": {
        "id": "WqmePVJzTg-M"
      },
      "source": [
        "dec1 = agg_decade.loc[agg_decade['decade'] == 1950].sort_values(\"Revenue (in millions)\", ascending=False).head()\n",
        "dec2 = agg_decade.loc[agg_decade['decade'] == 1960].sort_values(\"Revenue (in millions)\", ascending=False).head()\n",
        "dec3 = agg_decade.loc[agg_decade['decade'] == 1970].sort_values(\"Revenue (in millions)\", ascending=False).head()\n",
        "dec4 = agg_decade.loc[agg_decade['decade'] == 1980].sort_values(\"Revenue (in millions)\", ascending=False).head()\n",
        "dec5 = agg_decade.loc[agg_decade['decade'] == 1990].sort_values(\"Revenue (in millions)\", ascending=False).head()\n",
        "dec6 = agg_decade.loc[agg_decade['decade'] == 2000].sort_values(\"Revenue (in millions)\", ascending=False).head()"
      ],
      "execution_count": 119,
      "outputs": []
    },
    {
      "cell_type": "code",
      "metadata": {
        "colab": {
          "base_uri": "https://localhost:8080/",
          "height": 197
        },
        "id": "NhZ7ojFPlIuY",
        "outputId": "256db141-e6b5-4bfb-ff73-c52108fcceaa"
      },
      "source": [
        "dec6"
      ],
      "execution_count": 120,
      "outputs": [
        {
          "output_type": "execute_result",
          "data": {
            "text/html": [
              "<div>\n",
              "<style scoped>\n",
              "    .dataframe tbody tr th:only-of-type {\n",
              "        vertical-align: middle;\n",
              "    }\n",
              "\n",
              "    .dataframe tbody tr th {\n",
              "        vertical-align: top;\n",
              "    }\n",
              "\n",
              "    .dataframe thead th {\n",
              "        text-align: right;\n",
              "    }\n",
              "</style>\n",
              "<table border=\"1\" class=\"dataframe\">\n",
              "  <thead>\n",
              "    <tr style=\"text-align: right;\">\n",
              "      <th></th>\n",
              "      <th>decade</th>\n",
              "      <th>Company</th>\n",
              "      <th>Revenue (in millions)</th>\n",
              "      <th>Profit (in millions)</th>\n",
              "    </tr>\n",
              "  </thead>\n",
              "  <tbody>\n",
              "    <tr>\n",
              "      <th>4314</th>\n",
              "      <td>2000</td>\n",
              "      <td>Wal-Mart Stores</td>\n",
              "      <td>1373311.0</td>\n",
              "      <td>45703.0</td>\n",
              "    </tr>\n",
              "    <tr>\n",
              "      <th>3902</th>\n",
              "      <td>2000</td>\n",
              "      <td>Exxon Mobil</td>\n",
              "      <td>1232291.0</td>\n",
              "      <td>99250.0</td>\n",
              "    </tr>\n",
              "    <tr>\n",
              "      <th>3939</th>\n",
              "      <td>2000</td>\n",
              "      <td>General Motors</td>\n",
              "      <td>1126875.2</td>\n",
              "      <td>19418.0</td>\n",
              "    </tr>\n",
              "    <tr>\n",
              "      <th>3924</th>\n",
              "      <td>2000</td>\n",
              "      <td>Ford Motor</td>\n",
              "      <td>1005927.0</td>\n",
              "      <td>8253.0</td>\n",
              "    </tr>\n",
              "    <tr>\n",
              "      <th>3937</th>\n",
              "      <td>2000</td>\n",
              "      <td>General Electric</td>\n",
              "      <td>785644.0</td>\n",
              "      <td>82849.0</td>\n",
              "    </tr>\n",
              "  </tbody>\n",
              "</table>\n",
              "</div>"
            ],
            "text/plain": [
              "      decade           Company  Revenue (in millions)  Profit (in millions)\n",
              "4314    2000   Wal-Mart Stores              1373311.0               45703.0\n",
              "3902    2000       Exxon Mobil              1232291.0               99250.0\n",
              "3939    2000    General Motors              1126875.2               19418.0\n",
              "3924    2000        Ford Motor              1005927.0                8253.0\n",
              "3937    2000  General Electric               785644.0               82849.0"
            ]
          },
          "metadata": {
            "tags": []
          },
          "execution_count": 120
        }
      ]
    },
    {
      "cell_type": "markdown",
      "metadata": {
        "id": "VMF2vS6ua5OU"
      },
      "source": [
        "Let's merge all those data sets from each decade so we can show them on a singple plot. "
      ]
    },
    {
      "cell_type": "code",
      "metadata": {
        "id": "xHCtKvEaoeHo"
      },
      "source": [
        "plot_data = dec1.append(dec2, ignore_index=True)\n",
        "plot_data = plot_data.append(dec3, ignore_index=True)\n",
        "plot_data = plot_data.append(dec4, ignore_index=True)\n",
        "plot_data = plot_data.append(dec5, ignore_index=True)\n",
        "plot_data = plot_data.append(dec6, ignore_index=True)"
      ],
      "execution_count": 121,
      "outputs": []
    },
    {
      "cell_type": "markdown",
      "metadata": {
        "id": "ILmiqOGNbCtJ"
      },
      "source": [
        "Now we cam visualise the top 5 companies by revenue per decade on a bar plot. \n",
        "The Companies are grouped by their decade on the Y-Axis and the X-Axis shows the Revenue Sum for the decade in millions of dollars. \n",
        "\n",
        "I've chosen a barplot for this , because it is easy to visualise the groups and also the increases & relative levels across companies & decades. "
      ]
    },
    {
      "cell_type": "code",
      "metadata": {
        "colab": {
          "base_uri": "https://localhost:8080/",
          "height": 822
        },
        "id": "XdE-q3q0TBUt",
        "outputId": "f1b08105-3e9e-452d-89c1-5ae04721ca25"
      },
      "source": [
        "import seaborn as sns\n",
        "import matplotlib.pyplot as plt\n",
        "\n",
        "plt.figure(figsize=(22,12))\n",
        "plt.ticklabel_format(style='plain', axis='x')\n",
        "ax = sns.barplot(x=\"Revenue (in millions)\", y=\"decade\", hue='Company', orient=\"h\",data=plot_data)\n",
        "ax.set(xticks=[50000,150000,300000,600000,900000,1200000]);\n",
        "plt.suptitle(\"Fortune 500 - Top 5 Companies by total Revenue per Decade\", fontsize=28);"
      ],
      "execution_count": 162,
      "outputs": [
        {
          "output_type": "display_data",
          "data": {
            "image/png": "[encoded data removed]",
            "text/plain": [
              "<Figure size 1584x864 with 1 Axes>"
            ]
          },
          "metadata": {
            "tags": []
          }
        }
      ]
    },
    {
      "cell_type": "markdown",
      "metadata": {
        "id": "gP6FfidMKBk9"
      },
      "source": [
        "# Distribution of Revenue\n",
        "\n",
        " - Plot a graph depicting the distribution of the “Revenue” in the top 20\n",
        "Companies in 1971. "
      ]
    },
    {
      "cell_type": "markdown",
      "metadata": {
        "id": "JJ_vLUVkbYJm"
      },
      "source": [
        "Let's now grab all our data for the year 1971. \n",
        "Sort by highest revenue and grab the top 20 results. "
      ]
    },
    {
      "cell_type": "code",
      "metadata": {
        "id": "xtzuAFHlKBCG",
        "colab": {
          "base_uri": "https://localhost:8080/",
          "height": 647
        },
        "outputId": "3998aaf1-065d-4aed-9ec0-d528f7328307"
      },
      "source": [
        "rev_top20 = df.loc[df['Year'] == 1971].sort_values(\"Revenue (in millions)\", ascending=False).head(20)\n",
        "rev_top20"
      ],
      "execution_count": 145,
      "outputs": [
        {
          "output_type": "execute_result",
          "data": {
            "text/html": [
              "<div>\n",
              "<style scoped>\n",
              "    .dataframe tbody tr th:only-of-type {\n",
              "        vertical-align: middle;\n",
              "    }\n",
              "\n",
              "    .dataframe tbody tr th {\n",
              "        vertical-align: top;\n",
              "    }\n",
              "\n",
              "    .dataframe thead th {\n",
              "        text-align: right;\n",
              "    }\n",
              "</style>\n",
              "<table border=\"1\" class=\"dataframe\">\n",
              "  <thead>\n",
              "    <tr style=\"text-align: right;\">\n",
              "      <th></th>\n",
              "      <th>Year</th>\n",
              "      <th>Rank</th>\n",
              "      <th>Company</th>\n",
              "      <th>Revenue (in millions)</th>\n",
              "      <th>Profit (in millions)</th>\n",
              "      <th>decade</th>\n",
              "    </tr>\n",
              "  </thead>\n",
              "  <tbody>\n",
              "    <tr>\n",
              "      <th>8000</th>\n",
              "      <td>1971</td>\n",
              "      <td>1</td>\n",
              "      <td>General Motors</td>\n",
              "      <td>18752.4</td>\n",
              "      <td>609.1</td>\n",
              "      <td>1970</td>\n",
              "    </tr>\n",
              "    <tr>\n",
              "      <th>8001</th>\n",
              "      <td>1971</td>\n",
              "      <td>2</td>\n",
              "      <td>Exxon Mobil</td>\n",
              "      <td>16554.2</td>\n",
              "      <td>1309.5</td>\n",
              "      <td>1970</td>\n",
              "    </tr>\n",
              "    <tr>\n",
              "      <th>8002</th>\n",
              "      <td>1971</td>\n",
              "      <td>3</td>\n",
              "      <td>Ford Motor</td>\n",
              "      <td>14979.9</td>\n",
              "      <td>515.7</td>\n",
              "      <td>1970</td>\n",
              "    </tr>\n",
              "    <tr>\n",
              "      <th>8003</th>\n",
              "      <td>1971</td>\n",
              "      <td>4</td>\n",
              "      <td>General Electric</td>\n",
              "      <td>8726.7</td>\n",
              "      <td>328.5</td>\n",
              "      <td>1970</td>\n",
              "    </tr>\n",
              "    <tr>\n",
              "      <th>8004</th>\n",
              "      <td>1971</td>\n",
              "      <td>5</td>\n",
              "      <td>Intl. Business Machines</td>\n",
              "      <td>7504.0</td>\n",
              "      <td>1017.5</td>\n",
              "      <td>1970</td>\n",
              "    </tr>\n",
              "    <tr>\n",
              "      <th>8005</th>\n",
              "      <td>1971</td>\n",
              "      <td>6</td>\n",
              "      <td>Mobil</td>\n",
              "      <td>7260.5</td>\n",
              "      <td>482.7</td>\n",
              "      <td>1970</td>\n",
              "    </tr>\n",
              "    <tr>\n",
              "      <th>8006</th>\n",
              "      <td>1971</td>\n",
              "      <td>7</td>\n",
              "      <td>Chrysler</td>\n",
              "      <td>6999.7</td>\n",
              "      <td>-7.6</td>\n",
              "      <td>1970</td>\n",
              "    </tr>\n",
              "    <tr>\n",
              "      <th>8007</th>\n",
              "      <td>1971</td>\n",
              "      <td>8</td>\n",
              "      <td>ITT Industries</td>\n",
              "      <td>6364.5</td>\n",
              "      <td>353.3</td>\n",
              "      <td>1970</td>\n",
              "    </tr>\n",
              "    <tr>\n",
              "      <th>8008</th>\n",
              "      <td>1971</td>\n",
              "      <td>9</td>\n",
              "      <td>Texaco</td>\n",
              "      <td>6349.8</td>\n",
              "      <td>822.0</td>\n",
              "      <td>1970</td>\n",
              "    </tr>\n",
              "    <tr>\n",
              "      <th>8009</th>\n",
              "      <td>1971</td>\n",
              "      <td>10</td>\n",
              "      <td>AT&amp;T Technologies</td>\n",
              "      <td>5856.2</td>\n",
              "      <td>253.4</td>\n",
              "      <td>1970</td>\n",
              "    </tr>\n",
              "    <tr>\n",
              "      <th>8010</th>\n",
              "      <td>1971</td>\n",
              "      <td>11</td>\n",
              "      <td>Gulf Oil</td>\n",
              "      <td>5396.2</td>\n",
              "      <td>550.4</td>\n",
              "      <td>1970</td>\n",
              "    </tr>\n",
              "    <tr>\n",
              "      <th>8011</th>\n",
              "      <td>1971</td>\n",
              "      <td>12</td>\n",
              "      <td>U.S. Steel</td>\n",
              "      <td>4814.4</td>\n",
              "      <td>147.5</td>\n",
              "      <td>1970</td>\n",
              "    </tr>\n",
              "    <tr>\n",
              "      <th>8012</th>\n",
              "      <td>1971</td>\n",
              "      <td>13</td>\n",
              "      <td>CBS</td>\n",
              "      <td>4313.4</td>\n",
              "      <td>127.0</td>\n",
              "      <td>1970</td>\n",
              "    </tr>\n",
              "    <tr>\n",
              "      <th>8013</th>\n",
              "      <td>1971</td>\n",
              "      <td>14</td>\n",
              "      <td>ChevronTexaco</td>\n",
              "      <td>4187.8</td>\n",
              "      <td>454.8</td>\n",
              "      <td>1970</td>\n",
              "    </tr>\n",
              "    <tr>\n",
              "      <th>8014</th>\n",
              "      <td>1971</td>\n",
              "      <td>15</td>\n",
              "      <td>LTV</td>\n",
              "      <td>3771.7</td>\n",
              "      <td>-69.6</td>\n",
              "      <td>1970</td>\n",
              "    </tr>\n",
              "    <tr>\n",
              "      <th>8015</th>\n",
              "      <td>1971</td>\n",
              "      <td>16</td>\n",
              "      <td>Amoco</td>\n",
              "      <td>3732.8</td>\n",
              "      <td>314.0</td>\n",
              "      <td>1970</td>\n",
              "    </tr>\n",
              "    <tr>\n",
              "      <th>8016</th>\n",
              "      <td>1971</td>\n",
              "      <td>17</td>\n",
              "      <td>Boeing</td>\n",
              "      <td>3677.1</td>\n",
              "      <td>22.1</td>\n",
              "      <td>1970</td>\n",
              "    </tr>\n",
              "    <tr>\n",
              "      <th>8017</th>\n",
              "      <td>1971</td>\n",
              "      <td>18</td>\n",
              "      <td>DuPont</td>\n",
              "      <td>3618.4</td>\n",
              "      <td>328.7</td>\n",
              "      <td>1970</td>\n",
              "    </tr>\n",
              "    <tr>\n",
              "      <th>8018</th>\n",
              "      <td>1971</td>\n",
              "      <td>19</td>\n",
              "      <td>Shell Oil</td>\n",
              "      <td>3589.5</td>\n",
              "      <td>237.2</td>\n",
              "      <td>1970</td>\n",
              "    </tr>\n",
              "    <tr>\n",
              "      <th>8019</th>\n",
              "      <td>1971</td>\n",
              "      <td>20</td>\n",
              "      <td>General Telephone &amp; Electronics</td>\n",
              "      <td>3439.2</td>\n",
              "      <td>208.2</td>\n",
              "      <td>1970</td>\n",
              "    </tr>\n",
              "  </tbody>\n",
              "</table>\n",
              "</div>"
            ],
            "text/plain": [
              "      Year  Rank  ... Profit (in millions)  decade\n",
              "8000  1971     1  ...                609.1    1970\n",
              "8001  1971     2  ...               1309.5    1970\n",
              "8002  1971     3  ...                515.7    1970\n",
              "8003  1971     4  ...                328.5    1970\n",
              "8004  1971     5  ...               1017.5    1970\n",
              "8005  1971     6  ...                482.7    1970\n",
              "8006  1971     7  ...                 -7.6    1970\n",
              "8007  1971     8  ...                353.3    1970\n",
              "8008  1971     9  ...                822.0    1970\n",
              "8009  1971    10  ...                253.4    1970\n",
              "8010  1971    11  ...                550.4    1970\n",
              "8011  1971    12  ...                147.5    1970\n",
              "8012  1971    13  ...                127.0    1970\n",
              "8013  1971    14  ...                454.8    1970\n",
              "8014  1971    15  ...                -69.6    1970\n",
              "8015  1971    16  ...                314.0    1970\n",
              "8016  1971    17  ...                 22.1    1970\n",
              "8017  1971    18  ...                328.7    1970\n",
              "8018  1971    19  ...                237.2    1970\n",
              "8019  1971    20  ...                208.2    1970\n",
              "\n",
              "[20 rows x 6 columns]"
            ]
          },
          "metadata": {
            "tags": []
          },
          "execution_count": 145
        }
      ]
    },
    {
      "cell_type": "markdown",
      "metadata": {
        "id": "t0WOcam5fVq-"
      },
      "source": [
        "Let's now plot the revenue distribution using a displot.\n",
        "I've chosen a distibution plot because it is simple to visualise how often a certain amount of revenue has occured. "
      ]
    },
    {
      "cell_type": "code",
      "metadata": {
        "colab": {
          "base_uri": "https://localhost:8080/",
          "height": 873
        },
        "id": "q5sKp8DSrjpi",
        "outputId": "683bc699-715c-456d-96dd-7e10e6407416"
      },
      "source": [
        "import seaborn as sns\n",
        "plt.figure(figsize=(220,12))\n",
        "_ = sns.displot(x=\"Revenue (in millions)\", multiple=\"dodge\",data = rev_top20, bins=20, height=12)"
      ],
      "execution_count": 311,
      "outputs": [
        {
          "output_type": "display_data",
          "data": {
            "text/plain": [
              "<Figure size 15840x864 with 0 Axes>"
            ]
          },
          "metadata": {
            "tags": []
          }
        },
        {
          "output_type": "display_data",
          "data": {
            "image/png": "[encoded data removed]",
            "text/plain": [
              "<Figure size 864x864 with 1 Axes>"
            ]
          },
          "metadata": {
            "tags": []
          }
        }
      ]
    },
    {
      "cell_type": "markdown",
      "metadata": {
        "id": "FO9zZ6GRKI2s"
      },
      "source": [
        "# Highest Performing Companies\n",
        "\n",
        " - Find out and visualize which Top 10 Companies profit increased the most\n",
        "between 1990 and 1999 \n",
        " - This Must be a Single plot either static or interactive. "
      ]
    },
    {
      "cell_type": "markdown",
      "metadata": {
        "id": "SDT9SFObfqOk"
      },
      "source": [
        "Let's find the diff to every row in Profit column, when compared to 1990. "
      ]
    },
    {
      "cell_type": "code",
      "metadata": {
        "colab": {
          "base_uri": "https://localhost:8080/",
          "height": 406
        },
        "id": "2iSy2H-iEbRh",
        "outputId": "61d8db69-61d5-4bc7-b3ab-3a733f8272cc"
      },
      "source": [
        "def get_profit(comp, year):\n",
        "  try:\n",
        "    ret = df.loc[(df['Year'] == year) & (df['Company'] == comp)]['Profit (in millions)']\n",
        "    if (ret > 0):\n",
        "      return ret\n",
        "    else:\n",
        "      return 0\n",
        "  except Exception as e:\n",
        "    # print(e)\n",
        "    return 0\n",
        "\n",
        "df['profit_diff_1990'] = df.apply(lambda x: x['Profit (in millions)'] - get_profit(x.Company, 1990), axis=1)\n",
        "df"
      ],
      "execution_count": 265,
      "outputs": [
        {
          "output_type": "execute_result",
          "data": {
            "text/html": [
              "<div>\n",
              "<style scoped>\n",
              "    .dataframe tbody tr th:only-of-type {\n",
              "        vertical-align: middle;\n",
              "    }\n",
              "\n",
              "    .dataframe tbody tr th {\n",
              "        vertical-align: top;\n",
              "    }\n",
              "\n",
              "    .dataframe thead th {\n",
              "        text-align: right;\n",
              "    }\n",
              "</style>\n",
              "<table border=\"1\" class=\"dataframe\">\n",
              "  <thead>\n",
              "    <tr style=\"text-align: right;\">\n",
              "      <th></th>\n",
              "      <th>Year</th>\n",
              "      <th>Rank</th>\n",
              "      <th>Company</th>\n",
              "      <th>Revenue (in millions)</th>\n",
              "      <th>Profit (in millions)</th>\n",
              "      <th>decade</th>\n",
              "      <th>profit_diff_1990</th>\n",
              "    </tr>\n",
              "  </thead>\n",
              "  <tbody>\n",
              "    <tr>\n",
              "      <th>0</th>\n",
              "      <td>1955</td>\n",
              "      <td>1</td>\n",
              "      <td>General Motors</td>\n",
              "      <td>9823.5</td>\n",
              "      <td>806.0</td>\n",
              "      <td>1950</td>\n",
              "      <td>806.0</td>\n",
              "    </tr>\n",
              "    <tr>\n",
              "      <th>1</th>\n",
              "      <td>1955</td>\n",
              "      <td>2</td>\n",
              "      <td>Exxon Mobil</td>\n",
              "      <td>5661.4</td>\n",
              "      <td>584.8</td>\n",
              "      <td>1950</td>\n",
              "      <td>584.8</td>\n",
              "    </tr>\n",
              "    <tr>\n",
              "      <th>2</th>\n",
              "      <td>1955</td>\n",
              "      <td>3</td>\n",
              "      <td>U.S. Steel</td>\n",
              "      <td>3250.4</td>\n",
              "      <td>195.4</td>\n",
              "      <td>1950</td>\n",
              "      <td>195.4</td>\n",
              "    </tr>\n",
              "    <tr>\n",
              "      <th>3</th>\n",
              "      <td>1955</td>\n",
              "      <td>4</td>\n",
              "      <td>General Electric</td>\n",
              "      <td>2959.1</td>\n",
              "      <td>212.6</td>\n",
              "      <td>1950</td>\n",
              "      <td>212.6</td>\n",
              "    </tr>\n",
              "    <tr>\n",
              "      <th>4</th>\n",
              "      <td>1955</td>\n",
              "      <td>5</td>\n",
              "      <td>Esmark</td>\n",
              "      <td>2510.8</td>\n",
              "      <td>19.1</td>\n",
              "      <td>1950</td>\n",
              "      <td>19.1</td>\n",
              "    </tr>\n",
              "    <tr>\n",
              "      <th>...</th>\n",
              "      <td>...</td>\n",
              "      <td>...</td>\n",
              "      <td>...</td>\n",
              "      <td>...</td>\n",
              "      <td>...</td>\n",
              "      <td>...</td>\n",
              "      <td>...</td>\n",
              "    </tr>\n",
              "    <tr>\n",
              "      <th>25495</th>\n",
              "      <td>2005</td>\n",
              "      <td>496</td>\n",
              "      <td>Wm. Wrigley Jr.</td>\n",
              "      <td>3648.6</td>\n",
              "      <td>493.0</td>\n",
              "      <td>2000</td>\n",
              "      <td>493.0</td>\n",
              "    </tr>\n",
              "    <tr>\n",
              "      <th>25496</th>\n",
              "      <td>2005</td>\n",
              "      <td>497</td>\n",
              "      <td>Peabody Energy</td>\n",
              "      <td>3631.6</td>\n",
              "      <td>175.4</td>\n",
              "      <td>2000</td>\n",
              "      <td>175.4</td>\n",
              "    </tr>\n",
              "    <tr>\n",
              "      <th>25497</th>\n",
              "      <td>2005</td>\n",
              "      <td>498</td>\n",
              "      <td>Wendy's International</td>\n",
              "      <td>3630.4</td>\n",
              "      <td>57.8</td>\n",
              "      <td>2000</td>\n",
              "      <td>57.8</td>\n",
              "    </tr>\n",
              "    <tr>\n",
              "      <th>25498</th>\n",
              "      <td>2005</td>\n",
              "      <td>499</td>\n",
              "      <td>Kindred Healthcare</td>\n",
              "      <td>3616.6</td>\n",
              "      <td>70.6</td>\n",
              "      <td>2000</td>\n",
              "      <td>70.6</td>\n",
              "    </tr>\n",
              "    <tr>\n",
              "      <th>25499</th>\n",
              "      <td>2005</td>\n",
              "      <td>500</td>\n",
              "      <td>Cincinnati Financial</td>\n",
              "      <td>3614.0</td>\n",
              "      <td>584.0</td>\n",
              "      <td>2000</td>\n",
              "      <td>584.0</td>\n",
              "    </tr>\n",
              "  </tbody>\n",
              "</table>\n",
              "<p>25131 rows × 7 columns</p>\n",
              "</div>"
            ],
            "text/plain": [
              "       Year  Rank  ... decade  profit_diff_1990\n",
              "0      1955     1  ...   1950             806.0\n",
              "1      1955     2  ...   1950             584.8\n",
              "2      1955     3  ...   1950             195.4\n",
              "3      1955     4  ...   1950             212.6\n",
              "4      1955     5  ...   1950              19.1\n",
              "...     ...   ...  ...    ...               ...\n",
              "25495  2005   496  ...   2000             493.0\n",
              "25496  2005   497  ...   2000             175.4\n",
              "25497  2005   498  ...   2000              57.8\n",
              "25498  2005   499  ...   2000              70.6\n",
              "25499  2005   500  ...   2000             584.0\n",
              "\n",
              "[25131 rows x 7 columns]"
            ]
          },
          "metadata": {
            "tags": []
          },
          "execution_count": 265
        }
      ]
    },
    {
      "cell_type": "markdown",
      "metadata": {
        "id": "5q3K-sC-fy00"
      },
      "source": [
        "Now let's select our data points from 1999, sort them by our new profit diff column and take the 10 biggest values. "
      ]
    },
    {
      "cell_type": "code",
      "metadata": {
        "colab": {
          "base_uri": "https://localhost:8080/",
          "height": 347
        },
        "id": "HfSlcoRo65nu",
        "outputId": "b60008fd-a43b-4cc2-d4ec-d8e031dbadeb"
      },
      "source": [
        "top_ten = df.loc[(df['Year'] == 1999)].sort_values(\"profit_diff_1990\", ascending=False).head(10)\n",
        "top_ten"
      ],
      "execution_count": 269,
      "outputs": [
        {
          "output_type": "execute_result",
          "data": {
            "text/html": [
              "<div>\n",
              "<style scoped>\n",
              "    .dataframe tbody tr th:only-of-type {\n",
              "        vertical-align: middle;\n",
              "    }\n",
              "\n",
              "    .dataframe tbody tr th {\n",
              "        vertical-align: top;\n",
              "    }\n",
              "\n",
              "    .dataframe thead th {\n",
              "        text-align: right;\n",
              "    }\n",
              "</style>\n",
              "<table border=\"1\" class=\"dataframe\">\n",
              "  <thead>\n",
              "    <tr style=\"text-align: right;\">\n",
              "      <th></th>\n",
              "      <th>Year</th>\n",
              "      <th>Rank</th>\n",
              "      <th>Company</th>\n",
              "      <th>Revenue (in millions)</th>\n",
              "      <th>Profit (in millions)</th>\n",
              "      <th>decade</th>\n",
              "      <th>profit_diff_1990</th>\n",
              "    </tr>\n",
              "  </thead>\n",
              "  <tbody>\n",
              "    <tr>\n",
              "      <th>22001</th>\n",
              "      <td>1999</td>\n",
              "      <td>2</td>\n",
              "      <td>Ford Motor</td>\n",
              "      <td>144416.0</td>\n",
              "      <td>22071.0</td>\n",
              "      <td>1990</td>\n",
              "      <td>22071.0</td>\n",
              "    </tr>\n",
              "    <tr>\n",
              "      <th>22004</th>\n",
              "      <td>1999</td>\n",
              "      <td>5</td>\n",
              "      <td>General Electric</td>\n",
              "      <td>100469.0</td>\n",
              "      <td>9296.0</td>\n",
              "      <td>1990</td>\n",
              "      <td>9296.0</td>\n",
              "    </tr>\n",
              "    <tr>\n",
              "      <th>22009</th>\n",
              "      <td>1999</td>\n",
              "      <td>10</td>\n",
              "      <td>AT&amp;T</td>\n",
              "      <td>53588.0</td>\n",
              "      <td>6398.0</td>\n",
              "      <td>1990</td>\n",
              "      <td>6398.0</td>\n",
              "    </tr>\n",
              "    <tr>\n",
              "      <th>22003</th>\n",
              "      <td>1999</td>\n",
              "      <td>4</td>\n",
              "      <td>Exxon Mobil</td>\n",
              "      <td>100697.0</td>\n",
              "      <td>6370.0</td>\n",
              "      <td>1990</td>\n",
              "      <td>6370.0</td>\n",
              "    </tr>\n",
              "    <tr>\n",
              "      <th>22005</th>\n",
              "      <td>1999</td>\n",
              "      <td>6</td>\n",
              "      <td>Intl. Business Machines</td>\n",
              "      <td>81667.0</td>\n",
              "      <td>6328.0</td>\n",
              "      <td>1990</td>\n",
              "      <td>6328.0</td>\n",
              "    </tr>\n",
              "    <tr>\n",
              "      <th>22039</th>\n",
              "      <td>1999</td>\n",
              "      <td>40</td>\n",
              "      <td>Intel</td>\n",
              "      <td>26273.0</td>\n",
              "      <td>6068.0</td>\n",
              "      <td>1990</td>\n",
              "      <td>6068.0</td>\n",
              "    </tr>\n",
              "    <tr>\n",
              "      <th>22006</th>\n",
              "      <td>1999</td>\n",
              "      <td>7</td>\n",
              "      <td>Citigroup</td>\n",
              "      <td>76431.0</td>\n",
              "      <td>5807.0</td>\n",
              "      <td>1990</td>\n",
              "      <td>5807.0</td>\n",
              "    </tr>\n",
              "    <tr>\n",
              "      <th>22007</th>\n",
              "      <td>1999</td>\n",
              "      <td>8</td>\n",
              "      <td>Altria Group</td>\n",
              "      <td>57813.0</td>\n",
              "      <td>5372.0</td>\n",
              "      <td>1990</td>\n",
              "      <td>5372.0</td>\n",
              "    </tr>\n",
              "    <tr>\n",
              "      <th>22036</th>\n",
              "      <td>1999</td>\n",
              "      <td>37</td>\n",
              "      <td>Merck</td>\n",
              "      <td>26898.2</td>\n",
              "      <td>5248.2</td>\n",
              "      <td>1990</td>\n",
              "      <td>5248.2</td>\n",
              "    </tr>\n",
              "    <tr>\n",
              "      <th>22010</th>\n",
              "      <td>1999</td>\n",
              "      <td>11</td>\n",
              "      <td>Bank of America Corp.</td>\n",
              "      <td>50777.0</td>\n",
              "      <td>5165.0</td>\n",
              "      <td>1990</td>\n",
              "      <td>5165.0</td>\n",
              "    </tr>\n",
              "  </tbody>\n",
              "</table>\n",
              "</div>"
            ],
            "text/plain": [
              "       Year  Rank  ... decade  profit_diff_1990\n",
              "22001  1999     2  ...   1990           22071.0\n",
              "22004  1999     5  ...   1990            9296.0\n",
              "22009  1999    10  ...   1990            6398.0\n",
              "22003  1999     4  ...   1990            6370.0\n",
              "22005  1999     6  ...   1990            6328.0\n",
              "22039  1999    40  ...   1990            6068.0\n",
              "22006  1999     7  ...   1990            5807.0\n",
              "22007  1999     8  ...   1990            5372.0\n",
              "22036  1999    37  ...   1990            5248.2\n",
              "22010  1999    11  ...   1990            5165.0\n",
              "\n",
              "[10 rows x 7 columns]"
            ]
          },
          "metadata": {
            "tags": []
          },
          "execution_count": 269
        }
      ]
    },
    {
      "cell_type": "markdown",
      "metadata": {
        "id": "VUp0mpQIf8Yt"
      },
      "source": [
        "Let's sanity check the companies seen in this top 10. "
      ]
    },
    {
      "cell_type": "code",
      "metadata": {
        "colab": {
          "base_uri": "https://localhost:8080/"
        },
        "id": "AZlSwkr3Wn5e",
        "outputId": "9c0a1136-a75d-4752-cabd-8ccbee8f1837"
      },
      "source": [
        "top_ten_companies = top_ten.Company.unique()\n",
        "top_ten_companies"
      ],
      "execution_count": 272,
      "outputs": [
        {
          "output_type": "execute_result",
          "data": {
            "text/plain": [
              "array(['Ford Motor', 'General Electric', 'AT&T', 'Exxon Mobil',\n",
              "       'Intl. Business Machines', 'Intel', 'Citigroup', 'Altria Group',\n",
              "       'Merck', 'Bank of America Corp.'], dtype=object)"
            ]
          },
          "metadata": {
            "tags": []
          },
          "execution_count": 272
        }
      ]
    },
    {
      "cell_type": "code",
      "metadata": {
        "colab": {
          "base_uri": "https://localhost:8080/"
        },
        "id": "XdI4yjidgEbl",
        "outputId": "7cb2a50a-2e9f-44d9-d754-70322725405e"
      },
      "source": [
        "len(top_ten_companies)"
      ],
      "execution_count": 312,
      "outputs": [
        {
          "output_type": "execute_result",
          "data": {
            "text/plain": [
              "10"
            ]
          },
          "metadata": {
            "tags": []
          },
          "execution_count": 312
        }
      ]
    },
    {
      "cell_type": "code",
      "metadata": {
        "colab": {
          "base_uri": "https://localhost:8080/",
          "height": 406
        },
        "id": "48oheI2MXGzU",
        "outputId": "c9d87af0-ffb4-44b7-aa34-ac8fe467ac15"
      },
      "source": [
        "top_ten_data = df.loc[(df['Company'].isin(top_ten_companies)) & (df['Year'].between(1990,1999))]\n",
        "top_ten_data"
      ],
      "execution_count": 278,
      "outputs": [
        {
          "output_type": "execute_result",
          "data": {
            "text/html": [
              "<div>\n",
              "<style scoped>\n",
              "    .dataframe tbody tr th:only-of-type {\n",
              "        vertical-align: middle;\n",
              "    }\n",
              "\n",
              "    .dataframe tbody tr th {\n",
              "        vertical-align: top;\n",
              "    }\n",
              "\n",
              "    .dataframe thead th {\n",
              "        text-align: right;\n",
              "    }\n",
              "</style>\n",
              "<table border=\"1\" class=\"dataframe\">\n",
              "  <thead>\n",
              "    <tr style=\"text-align: right;\">\n",
              "      <th></th>\n",
              "      <th>Year</th>\n",
              "      <th>Rank</th>\n",
              "      <th>Company</th>\n",
              "      <th>Revenue (in millions)</th>\n",
              "      <th>Profit (in millions)</th>\n",
              "      <th>decade</th>\n",
              "      <th>profit_diff_1990</th>\n",
              "    </tr>\n",
              "  </thead>\n",
              "  <tbody>\n",
              "    <tr>\n",
              "      <th>17501</th>\n",
              "      <td>1990</td>\n",
              "      <td>2</td>\n",
              "      <td>Ford Motor</td>\n",
              "      <td>96932.6</td>\n",
              "      <td>3835.0</td>\n",
              "      <td>1990</td>\n",
              "      <td>3835.0</td>\n",
              "    </tr>\n",
              "    <tr>\n",
              "      <th>17502</th>\n",
              "      <td>1990</td>\n",
              "      <td>3</td>\n",
              "      <td>Exxon Mobil</td>\n",
              "      <td>86656.0</td>\n",
              "      <td>3510.0</td>\n",
              "      <td>1990</td>\n",
              "      <td>3510.0</td>\n",
              "    </tr>\n",
              "    <tr>\n",
              "      <th>17503</th>\n",
              "      <td>1990</td>\n",
              "      <td>4</td>\n",
              "      <td>Intl. Business Machines</td>\n",
              "      <td>63438.0</td>\n",
              "      <td>3758.0</td>\n",
              "      <td>1990</td>\n",
              "      <td>3758.0</td>\n",
              "    </tr>\n",
              "    <tr>\n",
              "      <th>17504</th>\n",
              "      <td>1990</td>\n",
              "      <td>5</td>\n",
              "      <td>General Electric</td>\n",
              "      <td>55264.0</td>\n",
              "      <td>3939.0</td>\n",
              "      <td>1990</td>\n",
              "      <td>3939.0</td>\n",
              "    </tr>\n",
              "    <tr>\n",
              "      <th>17506</th>\n",
              "      <td>1990</td>\n",
              "      <td>7</td>\n",
              "      <td>Altria Group</td>\n",
              "      <td>39069.0</td>\n",
              "      <td>2946.0</td>\n",
              "      <td>1990</td>\n",
              "      <td>2946.0</td>\n",
              "    </tr>\n",
              "    <tr>\n",
              "      <th>...</th>\n",
              "      <td>...</td>\n",
              "      <td>...</td>\n",
              "      <td>...</td>\n",
              "      <td>...</td>\n",
              "      <td>...</td>\n",
              "      <td>...</td>\n",
              "      <td>...</td>\n",
              "    </tr>\n",
              "    <tr>\n",
              "      <th>22007</th>\n",
              "      <td>1999</td>\n",
              "      <td>8</td>\n",
              "      <td>Altria Group</td>\n",
              "      <td>57813.0</td>\n",
              "      <td>5372.0</td>\n",
              "      <td>1990</td>\n",
              "      <td>5372.0</td>\n",
              "    </tr>\n",
              "    <tr>\n",
              "      <th>22009</th>\n",
              "      <td>1999</td>\n",
              "      <td>10</td>\n",
              "      <td>AT&amp;T</td>\n",
              "      <td>53588.0</td>\n",
              "      <td>6398.0</td>\n",
              "      <td>1990</td>\n",
              "      <td>6398.0</td>\n",
              "    </tr>\n",
              "    <tr>\n",
              "      <th>22010</th>\n",
              "      <td>1999</td>\n",
              "      <td>11</td>\n",
              "      <td>Bank of America Corp.</td>\n",
              "      <td>50777.0</td>\n",
              "      <td>5165.0</td>\n",
              "      <td>1990</td>\n",
              "      <td>5165.0</td>\n",
              "    </tr>\n",
              "    <tr>\n",
              "      <th>22036</th>\n",
              "      <td>1999</td>\n",
              "      <td>37</td>\n",
              "      <td>Merck</td>\n",
              "      <td>26898.2</td>\n",
              "      <td>5248.2</td>\n",
              "      <td>1990</td>\n",
              "      <td>5248.2</td>\n",
              "    </tr>\n",
              "    <tr>\n",
              "      <th>22039</th>\n",
              "      <td>1999</td>\n",
              "      <td>40</td>\n",
              "      <td>Intel</td>\n",
              "      <td>26273.0</td>\n",
              "      <td>6068.0</td>\n",
              "      <td>1990</td>\n",
              "      <td>6068.0</td>\n",
              "    </tr>\n",
              "  </tbody>\n",
              "</table>\n",
              "<p>85 rows × 7 columns</p>\n",
              "</div>"
            ],
            "text/plain": [
              "       Year  Rank  ... decade  profit_diff_1990\n",
              "17501  1990     2  ...   1990            3835.0\n",
              "17502  1990     3  ...   1990            3510.0\n",
              "17503  1990     4  ...   1990            3758.0\n",
              "17504  1990     5  ...   1990            3939.0\n",
              "17506  1990     7  ...   1990            2946.0\n",
              "...     ...   ...  ...    ...               ...\n",
              "22007  1999     8  ...   1990            5372.0\n",
              "22009  1999    10  ...   1990            6398.0\n",
              "22010  1999    11  ...   1990            5165.0\n",
              "22036  1999    37  ...   1990            5248.2\n",
              "22039  1999    40  ...   1990            6068.0\n",
              "\n",
              "[85 rows x 7 columns]"
            ]
          },
          "metadata": {
            "tags": []
          },
          "execution_count": 278
        }
      ]
    },
    {
      "cell_type": "markdown",
      "metadata": {
        "id": "XYU9GuYPgHYq"
      },
      "source": [
        "Let's plot the top 10 companies by revenue difference over the years 1990 to 1999. We use a line plot for this with color coding by company, this makes it easy to visualise the relative position each year & also what the profit was for that year. "
      ]
    },
    {
      "cell_type": "code",
      "metadata": {
        "colab": {
          "base_uri": "https://localhost:8080/",
          "height": 977
        },
        "id": "AMNK_ebvXqHa",
        "outputId": "4cc9dc70-8602-46b3-880a-1d75e81f1f8c"
      },
      "source": [
        "plt.figure(figsize=(18, 16))\n",
        "ax = sns.lineplot(x=\"Year\", \n",
        "                  y=\"Profit (in millions)\",\n",
        "                  hue=\"Company\",\n",
        "                  data=top_ten_data)\n",
        "ax.set_title('Fortune 500 top 10 by profit increase - 1990 to 1999', fontsize=24);"
      ],
      "execution_count": 286,
      "outputs": [
        {
          "output_type": "display_data",
          "data": {
            "image/png": "[encoded data removed]",
            "text/plain": [
              "<Figure size 1296x1152 with 1 Axes>"
            ]
          },
          "metadata": {
            "tags": []
          }
        }
      ]
    },
    {
      "cell_type": "markdown",
      "metadata": {
        "id": "47RJ9owtKU_9"
      },
      "source": [
        "# Revenue by Decade \n",
        "\n",
        " - Observe and plot the average revenue by decade\n",
        " - This Must be a Single plot\n",
        "either static or interactive. "
      ]
    },
    {
      "cell_type": "code",
      "metadata": {
        "id": "DJWarib1Kb4K"
      },
      "source": [
        ""
      ],
      "execution_count": null,
      "outputs": []
    }
  ]
}