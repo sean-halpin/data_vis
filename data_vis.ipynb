{
  "nbformat": 4,
  "nbformat_minor": 0,
  "metadata": {
    "colab": {
      "name": "data_vis.ipynb",
      "provenance": [],
      "authorship_tag": "ABX9TyMANOAN6J+Ojcac/w3lEzal",
      "include_colab_link": true
    },
    "kernelspec": {
      "name": "python3",
      "display_name": "Python 3"
    },
    "language_info": {
      "name": "python"
    }
  },
  "cells": [
    {
      "cell_type": "markdown",
      "metadata": {
        "id": "view-in-github",
        "colab_type": "text"
      },
      "source": [
        "<a href=\"https://colab.research.google.com/github/sean-halpin/data_vis/blob/main/data_vis.ipynb\" target=\"_parent\"><img src=\"https://colab.research.google.com/assets/colab-badge.svg\" alt=\"Open In Colab\"/></a>"
      ]
    },
    {
      "cell_type": "code",
      "metadata": {
        "id": "rolZMIoTBMLd"
      },
      "source": [
        "import numpy as np\n",
        "import pandas as pd"
      ],
      "execution_count": 1,
      "outputs": []
    },
    {
      "cell_type": "markdown",
      "metadata": {
        "id": "p6TAbqsfJpCx"
      },
      "source": [
        "You are required to explain what you plan on doing with the data.\n",
        " - Why did you chose the specific visualizations? \n",
        " - Why did you choose specific observations for a visualization\n",
        " - How did you Engineer your Data? "
      ]
    },
    {
      "cell_type": "code",
      "metadata": {
        "id": "xUYLifiWIk8R"
      },
      "source": [
        ""
      ],
      "execution_count": null,
      "outputs": []
    },
    {
      "cell_type": "markdown",
      "metadata": {
        "id": "5XHwFcKoJ1vG"
      },
      "source": [
        "# Plots \n",
        "Generate a plot that details the 5 top Companies by Revenue for each Decade.\n",
        " - Top 5 for 1950-1959, 1960-1969 etc. \n",
        " - This Must be a Single plot either static\n",
        "or interactive. "
      ]
    },
    {
      "cell_type": "code",
      "metadata": {
        "id": "qcFckPLQJ4sq"
      },
      "source": [
        ""
      ],
      "execution_count": null,
      "outputs": []
    },
    {
      "cell_type": "markdown",
      "metadata": {
        "id": "gP6FfidMKBk9"
      },
      "source": [
        "# Distribution of Revenue\n",
        "\n",
        " - Plot a graph depicting the distribution of the “Revenue” in the top 20\n",
        "Companies in 1971. "
      ]
    },
    {
      "cell_type": "code",
      "metadata": {
        "id": "xtzuAFHlKBCG"
      },
      "source": [
        ""
      ],
      "execution_count": null,
      "outputs": []
    },
    {
      "cell_type": "markdown",
      "metadata": {
        "id": "FO9zZ6GRKI2s"
      },
      "source": [
        "# Highest Performing Companies\n",
        "\n",
        " - Find out and visualize which Top 10 Companies profit increased the most\n",
        "between 1990 and 1999 \n",
        " - This Must be a Single plot either static or interactive. "
      ]
    },
    {
      "cell_type": "code",
      "metadata": {
        "id": "3vG3k4Q2KP3g"
      },
      "source": [
        ""
      ],
      "execution_count": null,
      "outputs": []
    },
    {
      "cell_type": "markdown",
      "metadata": {
        "id": "47RJ9owtKU_9"
      },
      "source": [
        "# Revenue by Decade \n",
        "\n",
        " - Observe and plot the average revenue by decade\n",
        " - This Must be a Single plot\n",
        "either static or interactive. "
      ]
    },
    {
      "cell_type": "code",
      "metadata": {
        "id": "DJWarib1Kb4K"
      },
      "source": [
        ""
      ],
      "execution_count": null,
      "outputs": []
    }
  ]
}